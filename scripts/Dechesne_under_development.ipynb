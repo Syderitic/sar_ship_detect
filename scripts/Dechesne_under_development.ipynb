{
 "cells": [
  {
   "cell_type": "code",
   "execution_count": 1,
   "metadata": {},
   "outputs": [],
   "source": [
    "import os\n",
    "\n",
    "import numpy as np \n",
    "import pandas as pd \n",
    "from collections import Counter\n",
    "from os.path import join\n",
    "from matplotlib import pyplot as plt\n",
    "from matplotlib import patches\n",
    "from mpl_toolkits.mplot3d import Axes3D\n",
    "import pylab\n",
    "import cv2\n",
    "%matplotlib inline"
   ]
  },
  {
   "cell_type": "code",
   "execution_count": 2,
   "metadata": {},
   "outputs": [],
   "source": [
    "PATH = r'C:\\Users\\arman\\Documents\\GitHub\\sar_ship_detect'\n",
    "#data_path = join(os. getcwd(), '..','data', 'Iceberg-classifier-challenge')\n",
    "data_path = join(PATH, 'data', 'very_deep_learn_data', 'json')"
   ]
  },
  {
   "cell_type": "code",
   "execution_count": 3,
   "metadata": {
    "scrolled": true
   },
   "outputs": [
    {
     "data": {
      "text/plain": [
       "['false_positives.json', 'ship_positives.json', 'true_negatives.json']"
      ]
     },
     "execution_count": 3,
     "metadata": {},
     "output_type": "execute_result"
    }
   ],
   "source": [
    "os.listdir(data_path)"
   ]
  },
  {
   "cell_type": "code",
   "execution_count": 4,
   "metadata": {},
   "outputs": [],
   "source": [
    "#Load the data.\n",
    "#false_positives = pd.read_json(join(data_path, 'false_positives.json'))\n",
    "ship_positives = pd.read_json(join(data_path, 'ship_positives.json'))\n",
    "#true_negatives = pd.read_json(join(data_path, 'true_negatives.json'))"
   ]
  },
  {
   "cell_type": "code",
   "execution_count": 5,
   "metadata": {},
   "outputs": [
    {
     "name": "stdout",
     "output_type": "stream",
     "text": [
      "true_positives:  (1, 1596)\n"
     ]
    }
   ],
   "source": [
    "print('true_positives: ',ship_positives.shape)\n",
    "#print('false_positives:',false_positives.shape) # not corresponding to the data sescribtion, should be checked out\n",
    "#print('true_negatives: ',true_negatives.shape)"
   ]
  },
  {
   "cell_type": "code",
   "execution_count": 6,
   "metadata": {},
   "outputs": [],
   "source": [
    "# define function for data extraction\n",
    "def data_extract(data_frame, dict_key):\n",
    "    \"\"\"Extract data from json file and \n",
    "    transform it as ndarray\"\"\"\n",
    "    #dict_key: should be text\n",
    "    \n",
    "    list_of_bands = []\n",
    "    for i in range(data_frame.shape[1]):\n",
    "        single_arr = data_frame[i][0][dict_key]\n",
    "        \n",
    "        # we need to recover the incidence angle as a band image\n",
    "        if dict_key == 'incidenceangle':\n",
    "            band = np.full((21, 21), single_arr)\n",
    "        else:\n",
    "            band = single_arr\n",
    "            \n",
    "        list_of_bands.append(band)\n",
    "\n",
    "    return np.array(list_of_bands)\n",
    "\n",
    "# define function form image re-sizing\n",
    "dsize = (80, 80)\n",
    "def im_resize(img,interpolation):\n",
    "    resized = cv2.resize(img, dsize=dsize, interpolation=interpolation) #cv2.INTER_CUBIC #cv2.INTER_NEAREST\n",
    "    return resized"
   ]
  },
  {
   "cell_type": "markdown",
   "metadata": {},
   "source": [
    "### Data extracton and resizing"
   ]
  },
  {
   "cell_type": "code",
   "execution_count": 7,
   "metadata": {
    "scrolled": true
   },
   "outputs": [],
   "source": [
    "# get true positive data\n",
    "ship_positive_data = data_extract(ship_positives, 'windowfu')\n",
    "# ship_positive_target = data_extract(ship_positives, 'validais')\n",
    "ship_positive_angle = data_extract(ship_positives, 'incidenceangle')\n",
    "# define ship target class as \"2\" for image class\n",
    "# ship_positive_target = np.full(ship_positives.shape[1], 2) \n",
    "# pixel based classes \n",
    "ship_positive_target = data_extract(ship_positives, 'windowgt')\n",
    "\n",
    "# Resize the images\n",
    "ship_positive_80 = np.array([im_resize(image, interpolation=cv2.INTER_NEAREST) for image in ship_positive_data])\n",
    "ship_positive_angle = np.array([im_resize(image, interpolation=cv2.INTER_NEAREST) for image in ship_positive_angle])\n",
    "# combine data and angle into 2 band images\n",
    "data = np.concatenate([ship_positive_80[:, :, :, np.newaxis], ship_positive_angle[:, :, :, np.newaxis]], axis=-1)\n",
    "\n",
    "#data = ship_positive_80\n",
    "target = np.array([im_resize(image, interpolation=cv2.INTER_NEAREST) for image in ship_positive_target])\n",
    "target = np.array(target[:,:,:,np.newaxis])"
   ]
  },
  {
   "cell_type": "markdown",
   "metadata": {},
   "source": [
    "### Data visualization"
   ]
  },
  {
   "cell_type": "code",
   "execution_count": 8,
   "metadata": {
    "scrolled": true
   },
   "outputs": [
    {
     "data": {
      "text/plain": [
       "Text(0.5, 1.0, 'radar data')"
      ]
     },
     "execution_count": 8,
     "metadata": {},
     "output_type": "execute_result"
    },
    {
     "data": {
      "text/plain": [
       "<Figure size 432x288 with 0 Axes>"
      ]
     },
     "metadata": {},
     "output_type": "display_data"
    },
    {
     "data": {
      "image/png": "[encoded data removed]",
      "text/plain": [
       "<Figure size 720x720 with 3 Axes>"
      ]
     },
     "metadata": {
      "needs_background": "light"
     },
     "output_type": "display_data"
    }
   ],
   "source": [
    "# visualize image samples \n",
    "plt.figure()\n",
    "\n",
    "#subplot(r,c) provide the no. of rows and columns\n",
    "f, axarr = plt.subplots(1,3, figsize=(10, 10)) \n",
    "\n",
    "# use the created array to output your multiple images. \n",
    "axarr[0].imshow(ship_positive_data[1200,:,:])\n",
    "axarr[0].set_title('radar data')\n",
    "axarr[1].imshow(ship_positive_data[14,:,:])  \n",
    "axarr[1].set_title('radar data')\n",
    "axarr[2].imshow(ship_positive_data[43,:,:])\n",
    "axarr[2].set_title('radar data')"
   ]
  },
  {
   "cell_type": "code",
   "execution_count": 9,
   "metadata": {},
   "outputs": [
    {
     "data": {
      "text/plain": [
       "Text(0.5, 1.0, 'target data')"
      ]
     },
     "execution_count": 9,
     "metadata": {},
     "output_type": "execute_result"
    },
    {
     "data": {
      "text/plain": [
       "<Figure size 432x288 with 0 Axes>"
      ]
     },
     "metadata": {},
     "output_type": "display_data"
    },
    {
     "data": {
      "image/png": "[encoded data removed]",
      "text/plain": [
       "<Figure size 720x720 with 3 Axes>"
      ]
     },
     "metadata": {
      "needs_background": "light"
     },
     "output_type": "display_data"
    }
   ],
   "source": [
    "# visualize target samples\n",
    "plt.figure()\n",
    "\n",
    "#subplot(r,c) provide the no. of rows and columns\n",
    "f, axarr = plt.subplots(1,3, figsize=(10, 10)) \n",
    "\n",
    "axarr[0].imshow(ship_positive_target[1200,:,:], cmap=\"gray\") \n",
    "axarr[0].set_title('target data')\n",
    "axarr[1].imshow(ship_positive_target[14,:,:], cmap=\"gray\") \n",
    "axarr[1].set_title('target data')\n",
    "axarr[2].imshow(ship_positive_target[43,:,:], cmap=\"gray\") \n",
    "axarr[2].set_title('target data')"
   ]
  },
  {
   "cell_type": "markdown",
   "metadata": {},
   "source": [
    "### Resized (80x80) "
   ]
  },
  {
   "cell_type": "code",
   "execution_count": 10,
   "metadata": {
    "scrolled": false
   },
   "outputs": [
    {
     "data": {
      "text/plain": [
       "Text(0.5, 1.0, 'ship')"
      ]
     },
     "execution_count": 10,
     "metadata": {},
     "output_type": "execute_result"
    },
    {
     "data": {
      "text/plain": [
       "<Figure size 432x288 with 0 Axes>"
      ]
     },
     "metadata": {},
     "output_type": "display_data"
    },
    {
     "data": {
      "image/png": "[encoded data removed]",
      "text/plain": [
       "<Figure size 864x864 with 3 Axes>"
      ]
     },
     "metadata": {
      "needs_background": "light"
     },
     "output_type": "display_data"
    }
   ],
   "source": [
    "# visualize image samples \n",
    "plt.figure()\n",
    "\n",
    "#subplot(r,c) provide the no. of rows and columns\n",
    "f, axarr = plt.subplots(1,3, figsize=(12, 12)) \n",
    "\n",
    "# use the created array to output your multiple images.\n",
    "axarr[0].imshow(ship_positive_80[1200,:,:])\n",
    "axarr[0].set_title('ship')\n",
    "axarr[1].imshow(ship_positive_80[14,:,:])  \n",
    "axarr[1].set_title('ship')\n",
    "axarr[2].imshow(ship_positive_80[43,:,:])\n",
    "axarr[2].set_title('ship')"
   ]
  },
  {
   "cell_type": "code",
   "execution_count": 11,
   "metadata": {},
   "outputs": [
    {
     "name": "stdout",
     "output_type": "stream",
     "text": [
      "data split: \n",
      "Train: \t    957 \n",
      "Validation: 240 \n",
      "Test: \t    399\n"
     ]
    }
   ],
   "source": [
    "from sklearn.model_selection import train_test_split\n",
    "\n",
    "# Define the data split strategy\n",
    "def data_split(data, target, train_size, test_size): \n",
    "    ''' Train-validation-test split'''\n",
    "\n",
    "    # split data to get the initial training test split\n",
    "    X_train, X_test, y_train, y_test = train_test_split(data, target, random_state=1, \n",
    "                                                train_size=train_size) # no stratification here\n",
    "    \n",
    "    # split data to get train validation split\n",
    "    X_train_cv, X_valid, y_train_cv, y_valid = train_test_split( X_train, y_train, random_state=1,\n",
    "                                                test_size = valid_size) \n",
    "    \n",
    "    return  X_train_cv, X_valid, X_test, y_train_cv, y_valid, y_test\n",
    "\n",
    "# define split parameters\n",
    "train_size = 0.75\n",
    "valid_size = 0.20\n",
    "\n",
    "X_train_cv, X_valid, X_test, y_train_cv, y_valid, y_test = data_split(data, target, train_size, valid_size )\n",
    "print(f'data split: \\nTrain: \\t    {X_train_cv.shape[0]} \\nValidation: {X_valid.shape[0]} \\nTest: \\t    {X_test.shape[0]}')"
   ]
  },
  {
   "cell_type": "code",
   "execution_count": 12,
   "metadata": {},
   "outputs": [
    {
     "name": "stdout",
     "output_type": "stream",
     "text": [
      "(1596, 80, 80, 2)\n",
      "(1596, 80, 80, 1)\n"
     ]
    }
   ],
   "source": [
    "print(data.shape)\n",
    "print(target.shape)"
   ]
  },
  {
   "cell_type": "code",
   "execution_count": 13,
   "metadata": {
    "scrolled": true
   },
   "outputs": [
    {
     "data": {
      "text/plain": [
       "(10214400,)"
      ]
     },
     "execution_count": 13,
     "metadata": {},
     "output_type": "execute_result"
    }
   ],
   "source": [
    "target.flatten().shape"
   ]
  },
  {
   "cell_type": "code",
   "execution_count": 14,
   "metadata": {},
   "outputs": [],
   "source": [
    "from sklearn.utils.class_weight import compute_class_weight\n",
    "\n",
    "class_weights = compute_class_weight('balanced', np.unique(target), target.flatten())"
   ]
  },
  {
   "cell_type": "markdown",
   "metadata": {},
   "source": [
    "## Buiding the Model"
   ]
  },
  {
   "cell_type": "code",
   "execution_count": 19,
   "metadata": {},
   "outputs": [],
   "source": [
    "#Import Keras.\n",
    "from matplotlib import pyplot\n",
    "from keras.preprocessing.image import ImageDataGenerator\n",
    "from keras.models import Sequential, load_modeldel\n",
    "from keras.layers import Conv2D, MaxPooling2D,UpSampling2D, Dense, Dropout, Input, Flatten, Activation, Reshape\n",
    "from keras.layers import GlobalMaxPooling2D\n",
    "from keras.layers.normalization import BatchNormalization\n",
    "from keras.layers.merge import Concatenate\n",
    "from keras.models import Model\n",
    "from keras import initializers\n",
    "from keras.optimizers import Adam, SGD, RMSprop\n",
    "from keras.callbacks import ModelCheckpoint, Callback, EarlyStopping\n",
    "from keras.metrics import binary_accuracy\n",
    "from sklearn.metrics import classification_report, confusion_matrix\n",
    "#import tensorflow_adons as tfa"
   ]
  },
  {
   "cell_type": "code",
   "execution_count": 16,
   "metadata": {},
   "outputs": [],
   "source": [
    "# Deschesne ship detection model\n",
    "def deschesne_model():\n",
    "    model = Sequential()\n",
    "    \n",
    "    # conv block 1\n",
    "    model.add(Conv2D(128, kernel_size=(3,3), activation='relu', padding='same', input_shape=(80,80,2)))\n",
    "    model.add(Conv2D(256, kernel_size=(3,3), activation='relu', padding='same'))\n",
    "    model.add(MaxPooling2D((2,2))) # does this make 80x80 => 40x40 ?\n",
    "    model.add(Dropout(0.1))\n",
    "    \n",
    "    # conv block 2\n",
    "    model.add(Conv2D(256, kernel_size=(3,3), activation='relu', padding='same'))\n",
    "    model.add(Conv2D(512, kernel_size=(3,3), activation='relu', padding='same'))\n",
    "    model.add(MaxPooling2D((2,2))) # image size: 80x80 => 40x40\n",
    "    model.add(Dropout(0.1))\n",
    "              \n",
    "    # conv block 3\n",
    "    model.add(Conv2D(512, kernel_size=(3,3), activation='relu', padding='same'))\n",
    "    model.add(Conv2D(512, kernel_size=(3,3), activation='relu', padding='same'))\n",
    "    model.add(Conv2D(64, kernel_size=(3,3), activation='relu', padding='same'))\n",
    "    \n",
    "    #Flatten the data for upcoming dense layers\n",
    "    #model.add(Flatten())\n",
    "    # fully connected block 1\n",
    "    #model.add(Dense(64))\n",
    "    \n",
    "    # conv block 4\n",
    "    model.add(Conv2D(64, kernel_size=(3,3), activation='relu', padding='same'))\n",
    "    # reshape the tensor vector indo NxN for passing into Conv2D\n",
    "    #model.add(Reshape((20,20), input_shape=(12,)))\n",
    "    model.add(UpSampling2D(size=(2,2)))\n",
    "    model.add(Dropout(0.1))\n",
    "              \n",
    "    # conv block 4\n",
    "    model.add(Conv2D(64, kernel_size=(3,3), activation='relu', padding='same'))\n",
    "    model.add(Conv2D(64, kernel_size=(3,3), activation='relu', padding='same'))\n",
    "    model.add(UpSampling2D(size=(2,2)))\n",
    "    model.add(Dropout(0.1))\n",
    "              \n",
    "    # output Layer\n",
    "    model.add(Conv2D(1, kernel_size=(3,3), activation='sigmoid', padding='same'))  \n",
    "    \n",
    "    # compile model\n",
    "    #mypotim = SGD(lr=0.01, momentum=0.9)\n",
    "    #mypotim=Adam(lr=0.001, beta_1=0.9, beta_2=0.999, epsilon=1e-08, decay=0.0)\n",
    "    mypotim = RMSprop(lr=0.001)\n",
    "    model.compile(loss='binary_crossentropy', #'sparse_categorical_crossentropy',  \n",
    "                  optimizer=mypotim,\n",
    "                  metrics=['accuracy'])                     \n",
    "    model.summary()\n",
    "    return model\n",
    "\n",
    "\n",
    "def get_callbacks(filepath, patience=2):\n",
    "    es = EarlyStopping('val_loss', patience=patience, mode=\"min\")\n",
    "    msave = ModelCheckpoint(filepath, save_best_only=True)\n",
    "    return [es, msave]\n",
    "\n",
    "# save the best weights\n",
    "weights_path = \".model_weights_Deschesne_pixel_wise.hdf5\"\n",
    "callbacks = get_callbacks(filepath=weights_path, patience=4) # increased the \"patience\""
   ]
  },
  {
   "cell_type": "code",
   "execution_count": 17,
   "metadata": {
    "scrolled": false
   },
   "outputs": [
    {
     "name": "stdout",
     "output_type": "stream",
     "text": [
      "Model: \"sequential_1\"\n",
      "_________________________________________________________________\n",
      "Layer (type)                 Output Shape              Param #   \n",
      "=================================================================\n",
      "conv2d_1 (Conv2D)            (None, 80, 80, 128)       2432      \n",
      "_________________________________________________________________\n",
      "conv2d_2 (Conv2D)            (None, 80, 80, 256)       295168    \n",
      "_________________________________________________________________\n",
      "max_pooling2d_1 (MaxPooling2 (None, 40, 40, 256)       0         \n",
      "_________________________________________________________________\n",
      "dropout_1 (Dropout)          (None, 40, 40, 256)       0         \n",
      "_________________________________________________________________\n",
      "conv2d_3 (Conv2D)            (None, 40, 40, 256)       590080    \n",
      "_________________________________________________________________\n",
      "conv2d_4 (Conv2D)            (None, 40, 40, 512)       1180160   \n",
      "_________________________________________________________________\n",
      "max_pooling2d_2 (MaxPooling2 (None, 20, 20, 512)       0         \n",
      "_________________________________________________________________\n",
      "dropout_2 (Dropout)          (None, 20, 20, 512)       0         \n",
      "_________________________________________________________________\n",
      "conv2d_5 (Conv2D)            (None, 20, 20, 512)       2359808   \n",
      "_________________________________________________________________\n",
      "conv2d_6 (Conv2D)            (None, 20, 20, 512)       2359808   \n",
      "_________________________________________________________________\n",
      "conv2d_7 (Conv2D)            (None, 20, 20, 64)        294976    \n",
      "_________________________________________________________________\n",
      "conv2d_8 (Conv2D)            (None, 20, 20, 64)        36928     \n",
      "_________________________________________________________________\n",
      "up_sampling2d_1 (UpSampling2 (None, 40, 40, 64)        0         \n",
      "_________________________________________________________________\n",
      "dropout_3 (Dropout)          (None, 40, 40, 64)        0         \n",
      "_________________________________________________________________\n",
      "conv2d_9 (Conv2D)            (None, 40, 40, 64)        36928     \n",
      "_________________________________________________________________\n",
      "conv2d_10 (Conv2D)           (None, 40, 40, 64)        36928     \n",
      "_________________________________________________________________\n",
      "up_sampling2d_2 (UpSampling2 (None, 80, 80, 64)        0         \n",
      "_________________________________________________________________\n",
      "dropout_4 (Dropout)          (None, 80, 80, 64)        0         \n",
      "_________________________________________________________________\n",
      "conv2d_11 (Conv2D)           (None, 80, 80, 1)         577       \n",
      "=================================================================\n",
      "Total params: 7,193,793\n",
      "Trainable params: 7,193,793\n",
      "Non-trainable params: 0\n",
      "_________________________________________________________________\n",
      "Train on 957 samples, validate on 240 samples\n",
      "Epoch 1/50\n",
      "957/957 [==============================] - 1113s 1s/step - loss: 9.4112 - accuracy: 0.9424 - val_loss: 0.1019 - val_accuracy: 0.9672\n",
      "Epoch 2/50\n",
      "957/957 [==============================] - 1099s 1s/step - loss: 0.0977 - accuracy: 0.9657 - val_loss: 0.0817 - val_accuracy: 0.9676\n",
      "Epoch 3/50\n",
      "957/957 [==============================] - 1099s 1s/step - loss: 0.0897 - accuracy: 0.9672 - val_loss: 0.0749 - val_accuracy: 0.9697\n",
      "Epoch 4/50\n",
      "957/957 [==============================] - 1104s 1s/step - loss: 0.1081 - accuracy: 0.9670 - val_loss: 0.0781 - val_accuracy: 0.9686\n",
      "Epoch 5/50\n",
      "957/957 [==============================] - 1238s 1s/step - loss: 0.0863 - accuracy: 0.9681 - val_loss: 0.3027 - val_accuracy: 0.9672\n",
      "Epoch 6/50\n",
      "957/957 [==============================] - 1184s 1s/step - loss: 0.0997 - accuracy: 0.9665 - val_loss: 0.0873 - val_accuracy: 0.9613\n",
      "Epoch 7/50\n",
      "957/957 [==============================] - 1229s 1s/step - loss: 0.0763 - accuracy: 0.9734 - val_loss: 0.0682 - val_accuracy: 0.9740\n",
      "Epoch 8/50\n",
      "957/957 [==============================] - 1248s 1s/step - loss: 0.0571 - accuracy: 0.9789 - val_loss: 0.0702 - val_accuracy: 0.9708\n",
      "Epoch 9/50\n",
      "957/957 [==============================] - 1160s 1s/step - loss: 0.0605 - accuracy: 0.9771 - val_loss: 0.0657 - val_accuracy: 0.9788\n",
      "Epoch 10/50\n",
      "957/957 [==============================] - 1170s 1s/step - loss: 0.0563 - accuracy: 0.9791 - val_loss: 0.0666 - val_accuracy: 0.9793\n",
      "Epoch 11/50\n",
      "957/957 [==============================] - 1142s 1s/step - loss: 0.0543 - accuracy: 0.9801 - val_loss: 0.0438 - val_accuracy: 0.9833\n",
      "Epoch 12/50\n",
      "957/957 [==============================] - 1137s 1s/step - loss: 0.0478 - accuracy: 0.9818 - val_loss: 0.0545 - val_accuracy: 0.9828\n",
      "Epoch 13/50\n",
      "957/957 [==============================] - 1142s 1s/step - loss: 0.0486 - accuracy: 0.9823 - val_loss: 0.0942 - val_accuracy: 0.9832\n",
      "Epoch 14/50\n",
      "957/957 [==============================] - 1138s 1s/step - loss: 0.0437 - accuracy: 0.9836 - val_loss: 0.0408 - val_accuracy: 0.9841\n",
      "Epoch 15/50\n",
      "957/957 [==============================] - 1138s 1s/step - loss: 0.0435 - accuracy: 0.9834 - val_loss: 0.0425 - val_accuracy: 0.9870\n",
      "Epoch 16/50\n",
      "957/957 [==============================] - 1190s 1s/step - loss: 0.0417 - accuracy: 0.9841 - val_loss: 0.0310 - val_accuracy: 0.9870\n",
      "Epoch 17/50\n",
      "957/957 [==============================] - 1280s 1s/step - loss: 0.0412 - accuracy: 0.9849 - val_loss: 0.0358 - val_accuracy: 0.9876\n",
      "Epoch 18/50\n",
      "957/957 [==============================] - 1210s 1s/step - loss: 0.0399 - accuracy: 0.9850 - val_loss: 0.0333 - val_accuracy: 0.9873\n",
      "Epoch 19/50\n",
      "957/957 [==============================] - 1301s 1s/step - loss: 0.0352 - accuracy: 0.9863 - val_loss: 0.0297 - val_accuracy: 0.9884\n",
      "Epoch 20/50\n",
      "957/957 [==============================] - 1217s 1s/step - loss: 0.0368 - accuracy: 0.9859 - val_loss: 0.0313 - val_accuracy: 0.9879\n",
      "Epoch 21/50\n",
      "957/957 [==============================] - 1117s 1s/step - loss: 0.0379 - accuracy: 0.9857 - val_loss: 0.0316 - val_accuracy: 0.9877\n",
      "Epoch 22/50\n",
      "957/957 [==============================] - 1117s 1s/step - loss: 0.0396 - accuracy: 0.9849 - val_loss: 0.0328 - val_accuracy: 0.9880\n",
      "Epoch 23/50\n",
      "936/957 [============================>.] - ETA: 23s - loss: 0.0408 - accuracy: 0.9851"
     ]
    },
    {
     "ename": "KeyboardInterrupt",
     "evalue": "",
     "output_type": "error",
     "traceback": [
      "\u001b[1;31m---------------------------------------------------------------------------\u001b[0m",
      "\u001b[1;31mKeyboardInterrupt\u001b[0m                         Traceback (most recent call last)",
      "\u001b[1;32m<ipython-input-17-196087bd9f5b>\u001b[0m in \u001b[0;36m<module>\u001b[1;34m\u001b[0m\n\u001b[0;32m      7\u001b[0m           \u001b[0mvalidation_data\u001b[0m\u001b[1;33m=\u001b[0m\u001b[1;33m(\u001b[0m\u001b[0mX_valid\u001b[0m\u001b[1;33m,\u001b[0m \u001b[0my_valid\u001b[0m\u001b[1;33m)\u001b[0m\u001b[1;33m,\u001b[0m\u001b[1;33m\u001b[0m\u001b[1;33m\u001b[0m\u001b[0m\n\u001b[0;32m      8\u001b[0m           \u001b[0mcallbacks\u001b[0m\u001b[1;33m=\u001b[0m\u001b[0mcallbacks\u001b[0m\u001b[1;33m,\u001b[0m\u001b[1;33m\u001b[0m\u001b[1;33m\u001b[0m\u001b[0m\n\u001b[1;32m----> 9\u001b[1;33m           class_weight=class_weights)\n\u001b[0m",
      "\u001b[1;32mc:\\users\\arman\\anaconda3\\envs\\ship_nn\\lib\\site-packages\\keras\\engine\\training.py\u001b[0m in \u001b[0;36mfit\u001b[1;34m(self, x, y, batch_size, epochs, verbose, callbacks, validation_split, validation_data, shuffle, class_weight, sample_weight, initial_epoch, steps_per_epoch, validation_steps, validation_freq, max_queue_size, workers, use_multiprocessing, **kwargs)\u001b[0m\n\u001b[0;32m   1237\u001b[0m                                         \u001b[0msteps_per_epoch\u001b[0m\u001b[1;33m=\u001b[0m\u001b[0msteps_per_epoch\u001b[0m\u001b[1;33m,\u001b[0m\u001b[1;33m\u001b[0m\u001b[1;33m\u001b[0m\u001b[0m\n\u001b[0;32m   1238\u001b[0m                                         \u001b[0mvalidation_steps\u001b[0m\u001b[1;33m=\u001b[0m\u001b[0mvalidation_steps\u001b[0m\u001b[1;33m,\u001b[0m\u001b[1;33m\u001b[0m\u001b[1;33m\u001b[0m\u001b[0m\n\u001b[1;32m-> 1239\u001b[1;33m                                         validation_freq=validation_freq)\n\u001b[0m\u001b[0;32m   1240\u001b[0m \u001b[1;33m\u001b[0m\u001b[0m\n\u001b[0;32m   1241\u001b[0m     def evaluate(self,\n",
      "\u001b[1;32mc:\\users\\arman\\anaconda3\\envs\\ship_nn\\lib\\site-packages\\keras\\engine\\training_arrays.py\u001b[0m in \u001b[0;36mfit_loop\u001b[1;34m(model, fit_function, fit_inputs, out_labels, batch_size, epochs, verbose, callbacks, val_function, val_inputs, shuffle, initial_epoch, steps_per_epoch, validation_steps, validation_freq)\u001b[0m\n\u001b[0;32m    194\u001b[0m                     \u001b[0mins_batch\u001b[0m\u001b[1;33m[\u001b[0m\u001b[0mi\u001b[0m\u001b[1;33m]\u001b[0m \u001b[1;33m=\u001b[0m \u001b[0mins_batch\u001b[0m\u001b[1;33m[\u001b[0m\u001b[0mi\u001b[0m\u001b[1;33m]\u001b[0m\u001b[1;33m.\u001b[0m\u001b[0mtoarray\u001b[0m\u001b[1;33m(\u001b[0m\u001b[1;33m)\u001b[0m\u001b[1;33m\u001b[0m\u001b[1;33m\u001b[0m\u001b[0m\n\u001b[0;32m    195\u001b[0m \u001b[1;33m\u001b[0m\u001b[0m\n\u001b[1;32m--> 196\u001b[1;33m                 \u001b[0mouts\u001b[0m \u001b[1;33m=\u001b[0m \u001b[0mfit_function\u001b[0m\u001b[1;33m(\u001b[0m\u001b[0mins_batch\u001b[0m\u001b[1;33m)\u001b[0m\u001b[1;33m\u001b[0m\u001b[1;33m\u001b[0m\u001b[0m\n\u001b[0m\u001b[0;32m    197\u001b[0m                 \u001b[0mouts\u001b[0m \u001b[1;33m=\u001b[0m \u001b[0mto_list\u001b[0m\u001b[1;33m(\u001b[0m\u001b[0mouts\u001b[0m\u001b[1;33m)\u001b[0m\u001b[1;33m\u001b[0m\u001b[1;33m\u001b[0m\u001b[0m\n\u001b[0;32m    198\u001b[0m                 \u001b[1;32mfor\u001b[0m \u001b[0ml\u001b[0m\u001b[1;33m,\u001b[0m \u001b[0mo\u001b[0m \u001b[1;32min\u001b[0m \u001b[0mzip\u001b[0m\u001b[1;33m(\u001b[0m\u001b[0mout_labels\u001b[0m\u001b[1;33m,\u001b[0m \u001b[0mouts\u001b[0m\u001b[1;33m)\u001b[0m\u001b[1;33m:\u001b[0m\u001b[1;33m\u001b[0m\u001b[1;33m\u001b[0m\u001b[0m\n",
      "\u001b[1;32mc:\\users\\arman\\anaconda3\\envs\\ship_nn\\lib\\site-packages\\tensorflow_core\\python\\keras\\backend.py\u001b[0m in \u001b[0;36m__call__\u001b[1;34m(self, inputs)\u001b[0m\n\u001b[0;32m   3738\u001b[0m         \u001b[0mvalue\u001b[0m \u001b[1;33m=\u001b[0m \u001b[0mmath_ops\u001b[0m\u001b[1;33m.\u001b[0m\u001b[0mcast\u001b[0m\u001b[1;33m(\u001b[0m\u001b[0mvalue\u001b[0m\u001b[1;33m,\u001b[0m \u001b[0mtensor\u001b[0m\u001b[1;33m.\u001b[0m\u001b[0mdtype\u001b[0m\u001b[1;33m)\u001b[0m\u001b[1;33m\u001b[0m\u001b[1;33m\u001b[0m\u001b[0m\n\u001b[0;32m   3739\u001b[0m       \u001b[0mconverted_inputs\u001b[0m\u001b[1;33m.\u001b[0m\u001b[0mappend\u001b[0m\u001b[1;33m(\u001b[0m\u001b[0mvalue\u001b[0m\u001b[1;33m)\u001b[0m\u001b[1;33m\u001b[0m\u001b[1;33m\u001b[0m\u001b[0m\n\u001b[1;32m-> 3740\u001b[1;33m     \u001b[0moutputs\u001b[0m \u001b[1;33m=\u001b[0m \u001b[0mself\u001b[0m\u001b[1;33m.\u001b[0m\u001b[0m_graph_fn\u001b[0m\u001b[1;33m(\u001b[0m\u001b[1;33m*\u001b[0m\u001b[0mconverted_inputs\u001b[0m\u001b[1;33m)\u001b[0m\u001b[1;33m\u001b[0m\u001b[1;33m\u001b[0m\u001b[0m\n\u001b[0m\u001b[0;32m   3741\u001b[0m \u001b[1;33m\u001b[0m\u001b[0m\n\u001b[0;32m   3742\u001b[0m     \u001b[1;31m# EagerTensor.numpy() will often make a copy to ensure memory safety.\u001b[0m\u001b[1;33m\u001b[0m\u001b[1;33m\u001b[0m\u001b[1;33m\u001b[0m\u001b[0m\n",
      "\u001b[1;32mc:\\users\\arman\\anaconda3\\envs\\ship_nn\\lib\\site-packages\\tensorflow_core\\python\\eager\\function.py\u001b[0m in \u001b[0;36m__call__\u001b[1;34m(self, *args, **kwargs)\u001b[0m\n\u001b[0;32m   1079\u001b[0m       \u001b[0mTypeError\u001b[0m\u001b[1;33m:\u001b[0m \u001b[0mFor\u001b[0m \u001b[0minvalid\u001b[0m \u001b[0mpositional\u001b[0m\u001b[1;33m/\u001b[0m\u001b[0mkeyword\u001b[0m \u001b[0margument\u001b[0m \u001b[0mcombinations\u001b[0m\u001b[1;33m.\u001b[0m\u001b[1;33m\u001b[0m\u001b[1;33m\u001b[0m\u001b[0m\n\u001b[0;32m   1080\u001b[0m     \"\"\"\n\u001b[1;32m-> 1081\u001b[1;33m     \u001b[1;32mreturn\u001b[0m \u001b[0mself\u001b[0m\u001b[1;33m.\u001b[0m\u001b[0m_call_impl\u001b[0m\u001b[1;33m(\u001b[0m\u001b[0margs\u001b[0m\u001b[1;33m,\u001b[0m \u001b[0mkwargs\u001b[0m\u001b[1;33m)\u001b[0m\u001b[1;33m\u001b[0m\u001b[1;33m\u001b[0m\u001b[0m\n\u001b[0m\u001b[0;32m   1082\u001b[0m \u001b[1;33m\u001b[0m\u001b[0m\n\u001b[0;32m   1083\u001b[0m   \u001b[1;32mdef\u001b[0m \u001b[0m_call_impl\u001b[0m\u001b[1;33m(\u001b[0m\u001b[0mself\u001b[0m\u001b[1;33m,\u001b[0m \u001b[0margs\u001b[0m\u001b[1;33m,\u001b[0m \u001b[0mkwargs\u001b[0m\u001b[1;33m,\u001b[0m \u001b[0mcancellation_manager\u001b[0m\u001b[1;33m=\u001b[0m\u001b[1;32mNone\u001b[0m\u001b[1;33m)\u001b[0m\u001b[1;33m:\u001b[0m\u001b[1;33m\u001b[0m\u001b[1;33m\u001b[0m\u001b[0m\n",
      "\u001b[1;32mc:\\users\\arman\\anaconda3\\envs\\ship_nn\\lib\\site-packages\\tensorflow_core\\python\\eager\\function.py\u001b[0m in \u001b[0;36m_call_impl\u001b[1;34m(self, args, kwargs, cancellation_manager)\u001b[0m\n\u001b[0;32m   1119\u001b[0m       raise TypeError(\"Keyword arguments {} unknown. Expected {}.\".format(\n\u001b[0;32m   1120\u001b[0m           list(kwargs.keys()), list(self._arg_keywords)))\n\u001b[1;32m-> 1121\u001b[1;33m     \u001b[1;32mreturn\u001b[0m \u001b[0mself\u001b[0m\u001b[1;33m.\u001b[0m\u001b[0m_call_flat\u001b[0m\u001b[1;33m(\u001b[0m\u001b[0margs\u001b[0m\u001b[1;33m,\u001b[0m \u001b[0mself\u001b[0m\u001b[1;33m.\u001b[0m\u001b[0mcaptured_inputs\u001b[0m\u001b[1;33m,\u001b[0m \u001b[0mcancellation_manager\u001b[0m\u001b[1;33m)\u001b[0m\u001b[1;33m\u001b[0m\u001b[1;33m\u001b[0m\u001b[0m\n\u001b[0m\u001b[0;32m   1122\u001b[0m \u001b[1;33m\u001b[0m\u001b[0m\n\u001b[0;32m   1123\u001b[0m   \u001b[1;32mdef\u001b[0m \u001b[0m_filtered_call\u001b[0m\u001b[1;33m(\u001b[0m\u001b[0mself\u001b[0m\u001b[1;33m,\u001b[0m \u001b[0margs\u001b[0m\u001b[1;33m,\u001b[0m \u001b[0mkwargs\u001b[0m\u001b[1;33m)\u001b[0m\u001b[1;33m:\u001b[0m\u001b[1;33m\u001b[0m\u001b[1;33m\u001b[0m\u001b[0m\n",
      "\u001b[1;32mc:\\users\\arman\\anaconda3\\envs\\ship_nn\\lib\\site-packages\\tensorflow_core\\python\\eager\\function.py\u001b[0m in \u001b[0;36m_call_flat\u001b[1;34m(self, args, captured_inputs, cancellation_manager)\u001b[0m\n\u001b[0;32m   1222\u001b[0m     \u001b[1;32mif\u001b[0m \u001b[0mexecuting_eagerly\u001b[0m\u001b[1;33m:\u001b[0m\u001b[1;33m\u001b[0m\u001b[1;33m\u001b[0m\u001b[0m\n\u001b[0;32m   1223\u001b[0m       flat_outputs = forward_function.call(\n\u001b[1;32m-> 1224\u001b[1;33m           ctx, args, cancellation_manager=cancellation_manager)\n\u001b[0m\u001b[0;32m   1225\u001b[0m     \u001b[1;32melse\u001b[0m\u001b[1;33m:\u001b[0m\u001b[1;33m\u001b[0m\u001b[1;33m\u001b[0m\u001b[0m\n\u001b[0;32m   1226\u001b[0m       \u001b[0mgradient_name\u001b[0m \u001b[1;33m=\u001b[0m \u001b[0mself\u001b[0m\u001b[1;33m.\u001b[0m\u001b[0m_delayed_rewrite_functions\u001b[0m\u001b[1;33m.\u001b[0m\u001b[0mregister\u001b[0m\u001b[1;33m(\u001b[0m\u001b[1;33m)\u001b[0m\u001b[1;33m\u001b[0m\u001b[1;33m\u001b[0m\u001b[0m\n",
      "\u001b[1;32mc:\\users\\arman\\anaconda3\\envs\\ship_nn\\lib\\site-packages\\tensorflow_core\\python\\eager\\function.py\u001b[0m in \u001b[0;36mcall\u001b[1;34m(self, ctx, args, cancellation_manager)\u001b[0m\n\u001b[0;32m    509\u001b[0m               \u001b[0minputs\u001b[0m\u001b[1;33m=\u001b[0m\u001b[0margs\u001b[0m\u001b[1;33m,\u001b[0m\u001b[1;33m\u001b[0m\u001b[1;33m\u001b[0m\u001b[0m\n\u001b[0;32m    510\u001b[0m               \u001b[0mattrs\u001b[0m\u001b[1;33m=\u001b[0m\u001b[1;33m(\u001b[0m\u001b[1;34m\"executor_type\"\u001b[0m\u001b[1;33m,\u001b[0m \u001b[0mexecutor_type\u001b[0m\u001b[1;33m,\u001b[0m \u001b[1;34m\"config_proto\"\u001b[0m\u001b[1;33m,\u001b[0m \u001b[0mconfig\u001b[0m\u001b[1;33m)\u001b[0m\u001b[1;33m,\u001b[0m\u001b[1;33m\u001b[0m\u001b[1;33m\u001b[0m\u001b[0m\n\u001b[1;32m--> 511\u001b[1;33m               ctx=ctx)\n\u001b[0m\u001b[0;32m    512\u001b[0m         \u001b[1;32melse\u001b[0m\u001b[1;33m:\u001b[0m\u001b[1;33m\u001b[0m\u001b[1;33m\u001b[0m\u001b[0m\n\u001b[0;32m    513\u001b[0m           outputs = execute.execute_with_cancellation(\n",
      "\u001b[1;32mc:\\users\\arman\\anaconda3\\envs\\ship_nn\\lib\\site-packages\\tensorflow_core\\python\\eager\\execute.py\u001b[0m in \u001b[0;36mquick_execute\u001b[1;34m(op_name, num_outputs, inputs, attrs, ctx, name)\u001b[0m\n\u001b[0;32m     59\u001b[0m     tensors = pywrap_tensorflow.TFE_Py_Execute(ctx._handle, device_name,\n\u001b[0;32m     60\u001b[0m                                                \u001b[0mop_name\u001b[0m\u001b[1;33m,\u001b[0m \u001b[0minputs\u001b[0m\u001b[1;33m,\u001b[0m \u001b[0mattrs\u001b[0m\u001b[1;33m,\u001b[0m\u001b[1;33m\u001b[0m\u001b[1;33m\u001b[0m\u001b[0m\n\u001b[1;32m---> 61\u001b[1;33m                                                num_outputs)\n\u001b[0m\u001b[0;32m     62\u001b[0m   \u001b[1;32mexcept\u001b[0m \u001b[0mcore\u001b[0m\u001b[1;33m.\u001b[0m\u001b[0m_NotOkStatusException\u001b[0m \u001b[1;32mas\u001b[0m \u001b[0me\u001b[0m\u001b[1;33m:\u001b[0m\u001b[1;33m\u001b[0m\u001b[1;33m\u001b[0m\u001b[0m\n\u001b[0;32m     63\u001b[0m     \u001b[1;32mif\u001b[0m \u001b[0mname\u001b[0m \u001b[1;32mis\u001b[0m \u001b[1;32mnot\u001b[0m \u001b[1;32mNone\u001b[0m\u001b[1;33m:\u001b[0m\u001b[1;33m\u001b[0m\u001b[1;33m\u001b[0m\u001b[0m\n",
      "\u001b[1;31mKeyboardInterrupt\u001b[0m: "
     ]
    }
   ],
   "source": [
    "#Without denoising, core features.\n",
    "gmodel=deschesne_model()\n",
    "gmodel.fit(X_train_cv, y_train_cv,\n",
    "          batch_size=24,\n",
    "          epochs=50,\n",
    "          verbose=1,\n",
    "          validation_data=(X_valid, y_valid),\n",
    "          callbacks=callbacks,\n",
    "          class_weight=class_weights)"
   ]
  },
  {
   "cell_type": "code",
   "execution_count": 20,
   "metadata": {},
   "outputs": [
    {
     "name": "stdout",
     "output_type": "stream",
     "text": [
      "240/240 [==============================] - 80s 331ms/step\n",
      "Test loss: 0.029677285254001616\n",
      "Test accuracy: 0.9884374737739563\n"
     ]
    }
   ],
   "source": [
    "# model validation evaluation\n",
    "gmodel = load_model(weights_path)\n",
    "score = gmodel.evaluate(X_valid, y_valid, verbose=1)\n",
    "print('Test loss:', score[0])\n",
    "print('Test accuracy:', score[1])"
   ]
  },
  {
   "cell_type": "code",
   "execution_count": 21,
   "metadata": {},
   "outputs": [
    {
     "name": "stdout",
     "output_type": "stream",
     "text": [
      "399/399 [==============================] - 129s 322ms/step\n",
      "Test loss: 0.029582742512935682\n",
      "Test accuracy: 0.9884680509567261\n"
     ]
    }
   ],
   "source": [
    "# model test evaluation\n",
    "score = gmodel.evaluate(X_test, y_test, verbose=1)\n",
    "print('Test loss:', score[0])\n",
    "print('Test accuracy:', score[1])"
   ]
  },
  {
   "cell_type": "code",
   "execution_count": 22,
   "metadata": {},
   "outputs": [
    {
     "name": "stdout",
     "output_type": "stream",
     "text": [
      "399/399 [==============================] - 130s 326ms/step\n"
     ]
    }
   ],
   "source": [
    "# get predicted target values \n",
    "# y_pred = gmodel.predict(X_test, batch_size=64, verbose=1)\n",
    "y_pred_class = gmodel.predict_classes(X_test, batch_size=64, verbose=1).squeeze()"
   ]
  },
  {
   "cell_type": "code",
   "execution_count": 37,
   "metadata": {},
   "outputs": [],
   "source": [
    "# reduce the dimensionality (remove the 4th axis)\n",
    "X_test_3d = X_test[:,:,:,0]\n",
    "y_test_3d = y_test[:,:,:,0]\n",
    "y_pred_3d = y_pred[:,:,:,0]\n",
    "# get the binary prediction\n",
    "#y_pred_class_3d = y_pred_class[:,:,:,0]\n",
    "# y_pred_class = np.vectorize(round)(y_pred_3d)"
   ]
  },
  {
   "cell_type": "code",
   "execution_count": 38,
   "metadata": {},
   "outputs": [
    {
     "data": {
      "text/plain": [
       "Text(0.5, 1.0, 'predicted labels')"
      ]
     },
     "execution_count": 38,
     "metadata": {},
     "output_type": "execute_result"
    },
    {
     "data": {
      "text/plain": [
       "<Figure size 432x288 with 0 Axes>"
      ]
     },
     "metadata": {},
     "output_type": "display_data"
    },
    {
     "data": {
      "image/png": "[encoded data removed]",
      "text/plain": [
       "<Figure size 720x720 with 4 Axes>"
      ]
     },
     "metadata": {
      "needs_background": "light"
     },
     "output_type": "display_data"
    }
   ],
   "source": [
    "# visualize image samples \n",
    "\n",
    "plt.figure()\n",
    "\n",
    "#subplot(r,c) provide the no. of rows and columns\n",
    "f, axarr = plt.subplots(2,2, figsize=(10, 10)) \n",
    "\n",
    "# use the created array to output your multiple images. In this case I have stacked 4 images vertically\n",
    "axarr[0,0].imshow(X_test_3d[45])\n",
    "axarr[0,0].set_title('actual data')\n",
    "axarr[0,1].imshow(y_pred_3d[45])  \n",
    "axarr[0,1].set_title('predicted data')\n",
    "axarr[1,0].imshow(y_test_3d[45], cmap=\"gray\")\n",
    "axarr[1,0].set_title('actual labels')\n",
    "axarr[1,1].imshow(y_pred_class[45], cmap=\"gray\") \n",
    "axarr[1,1].set_title('predicted labels')"
   ]
  },
  {
   "cell_type": "markdown",
   "metadata": {},
   "source": [
    "### Dwawing a Bounding Box around the image\n",
    "\n",
    "For this purpose, let's downscale the images to its original 21x21 size"
   ]
  },
  {
   "cell_type": "markdown",
   "metadata": {},
   "source": [
    "dsize = (21,21)\n",
    "y_pred_orig_size =  np.array([im_resize(image, interpolation=cv2.INTER_NEAREST) for image in y_pred_3d])\n",
    "y_pred_class_orig_size =  np.array([im_resize(image, interpolation=cv2.INTER_NEAREST) for image in y_pred_bool])"
   ]
  },
  {
   "cell_type": "code",
   "execution_count": 92,
   "metadata": {},
   "outputs": [
    {
     "data": {
      "text/plain": [
       "<Figure size 432x288 with 0 Axes>"
      ]
     },
     "metadata": {},
     "output_type": "display_data"
    },
    {
     "data": {
      "image/png": "[encoded data removed]",
      "text/plain": [
       "<Figure size 720x720 with 2 Axes>"
      ]
     },
     "metadata": {
      "needs_background": "light"
     },
     "output_type": "display_data"
    }
   ],
   "source": [
    "def bbox_draw(image_id, dsize = dsize):\n",
    "    '''Draw rectangle box around the detected ship''' \n",
    "    \n",
    "    # resize the given images to original sizes\n",
    "    y_pred_resized = im_resize(y_pred_3d[image_id], interpolation=cv2.INTER_NEAREST)\n",
    "    y_pred_class_resized =  im_resize(y_pred_class[image_id], interpolation=cv2.INTER_NEAREST)\n",
    "    \n",
    "    # get figure bounding parameters \n",
    "    indx = np.argwhere(y_pred_class_resized==1)\n",
    "    up_b    = indx[:,0].min()\n",
    "    down_b  = indx[:,0].max()\n",
    "    left_b  = indx[:,1].min()\n",
    "    right_b = indx[:,1].max()\n",
    "\n",
    "    # set up the bbox corners coordinate with 1 pixel out\n",
    "    upper_left = (left_b-0.75,up_b-0.75)\n",
    "    width = right_b-left_b+1.5\n",
    "    height = down_b-up_b+1.5\n",
    "       \n",
    "    # Configure figure ploting\n",
    "    plt.figure()\n",
    "\n",
    "    #subplot(r,c) provide the no. of rows and columns\n",
    "    f, ax = plt.subplots(1,2, figsize = (10,10)) \n",
    "    ax[0].imshow(y_pred_resized,cmap=\"gray\")\n",
    "    ax[0].set_title('bbox around the detected ship')\n",
    "    ax[1].imshow(y_pred_class_resized,cmap=\"gray\")\n",
    "    ax[1].set_title('bbox around the detected ship')\n",
    "    \n",
    "    # Create a Rectangle patch\n",
    "    #Rectangle((left,upper),width,height)\n",
    "    rect = patches.Rectangle(\n",
    "        upper_left,\n",
    "        width,height,\n",
    "        linewidth=0.7,edgecolor='r',facecolor='none')\n",
    "    # Add the patch to the Axes\n",
    "    ax[0].add_patch(rect)\n",
    "#     ax[1].add_patch(rect)\n",
    "\n",
    "    plt.show()\n",
    "    \n",
    "dsize = (21,21)\n",
    "bbox_draw(45,dsize= dsize )"
   ]
  }
 ],
 "metadata": {
  "kernelspec": {
   "display_name": "Python 3",
   "language": "python",
   "name": "python3"
  },
  "language_info": {
   "codemirror_mode": {
    "name": "ipython",
    "version": 3
   },
   "file_extension": ".py",
   "mimetype": "text/x-python",
   "name": "python",
   "nbconvert_exporter": "python",
   "pygments_lexer": "ipython3",
   "version": "3.7.6"
  }
 },
 "nbformat": 4,
 "nbformat_minor": 4
}
