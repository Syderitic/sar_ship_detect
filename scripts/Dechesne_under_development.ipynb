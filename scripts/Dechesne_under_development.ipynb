{
 "cells": [
  {
   "cell_type": "code",
   "execution_count": 113,
   "metadata": {},
   "outputs": [],
   "source": [
    "import os\n",
    "\n",
    "import numpy as np \n",
    "import pandas as pd \n",
    "from collections import Counter\n",
    "from os.path import join\n",
    "from matplotlib import pyplot as plt\n",
    "from mpl_toolkits.mplot3d import Axes3D\n",
    "import pylab\n",
    "import cv2\n",
    "%matplotlib inline"
   ]
  },
  {
   "cell_type": "code",
   "execution_count": 2,
   "metadata": {},
   "outputs": [],
   "source": [
    "PATH = r'C:\\Users\\arman\\Documents\\GitHub\\sar_ship_detect'\n",
    "#data_path = join(os. getcwd(), '..','data', 'Iceberg-classifier-challenge')\n",
    "data_path = join(PATH, 'data', 'very_deep_learn_data', 'json')"
   ]
  },
  {
   "cell_type": "code",
   "execution_count": 3,
   "metadata": {
    "scrolled": true
   },
   "outputs": [
    {
     "data": {
      "text/plain": [
       "['false_positives.json', 'ship_positives.json', 'true_negatives.json']"
      ]
     },
     "execution_count": 3,
     "metadata": {},
     "output_type": "execute_result"
    }
   ],
   "source": [
    "os.listdir(data_path)"
   ]
  },
  {
   "cell_type": "code",
   "execution_count": 5,
   "metadata": {},
   "outputs": [],
   "source": [
    "#Load the data.\n",
    "#false_positives = pd.read_json(join(data_path, 'false_positives.json'))\n",
    "ship_positives = pd.read_json(join(data_path, 'ship_positives.json'))\n",
    "true_negatives = pd.read_json(join(data_path, 'true_negatives.json'))"
   ]
  },
  {
   "cell_type": "code",
   "execution_count": 6,
   "metadata": {},
   "outputs": [
    {
     "name": "stdout",
     "output_type": "stream",
     "text": [
      "true_positives:  (1, 1596)\n",
      "true_negatives:  (1, 1596)\n"
     ]
    }
   ],
   "source": [
    "print('true_positives: ',ship_positives.shape)\n",
    "#print('false_positives:',false_positives.shape) # not corresponding to the data sescribtion, should be checked out\n",
    "print('true_negatives: ',true_negatives.shape)"
   ]
  },
  {
   "cell_type": "markdown",
   "metadata": {},
   "source": [
    "#### Downsample the false positive class in order to balance tha dataset\n",
    "unmute to include **false positives** into analysis"
   ]
  },
  {
   "cell_type": "markdown",
   "metadata": {},
   "source": [
    "false_positives= false_positives.iloc[:, 0:ship_positives.shape[1]]\n",
    "print('false_positives:',false_positives.shape)"
   ]
  },
  {
   "cell_type": "markdown",
   "metadata": {},
   "source": [
    "### Data Pre-processing\n",
    "Define functions to extract the neccessary data from the datasets and Resize the images."
   ]
  },
  {
   "cell_type": "code",
   "execution_count": 147,
   "metadata": {},
   "outputs": [],
   "source": [
    "# define function for data extraction\n",
    "def data_extract(data_frame, dict_key):\n",
    "    \"\"\"Extract data from json file and \n",
    "    transform it as ndarray\"\"\"\n",
    "    #dict_key: should be text\n",
    "    \n",
    "    list_of_bands = []\n",
    "    for i in range(data_frame.shape[1]):\n",
    "        single_arr = data_frame[i][0][dict_key]\n",
    "        \n",
    "        # we need to recover the incidence angle as a band image\n",
    "        if dict_key == 'incidenceangle':\n",
    "            band = np.full((21, 21), single_arr)\n",
    "        else:\n",
    "            band = single_arr\n",
    "            \n",
    "        list_of_bands.append(band)\n",
    "\n",
    "    return np.array(list_of_bands)\n",
    "\n",
    "# define function form image re-sizing\n",
    "dsize = (80, 80)\n",
    "def im_resize(img,interpolation):\n",
    "    resized = cv2.resize(img, dsize=dsize, interpolation=interpolation) #cv2.INTER_CUBIC #cv2.INTER_NEAREST\n",
    "    return resized"
   ]
  },
  {
   "cell_type": "markdown",
   "metadata": {},
   "source": [
    "### Data extracton and resizing"
   ]
  },
  {
   "cell_type": "code",
   "execution_count": 177,
   "metadata": {
    "scrolled": true
   },
   "outputs": [],
   "source": [
    "# get true positive data\n",
    "ship_positive_data = data_extract(ship_positives, 'windowfu')\n",
    "# ship_positive_target = data_extract(ship_positives, 'validais')\n",
    "ship_positive_angle = data_extract(ship_positives, 'incidenceangle')\n",
    "# define ship target class as \"2\" for image class\n",
    "# ship_positive_target = np.full(ship_positives.shape[1], 2) \n",
    "# pixel based classes \n",
    "ship_positive_target = data_extract(ship_positives, 'windowgt')\n",
    "\n",
    "# Resize the images\n",
    "ship_positive_80 = np.array([im_resize(image, interpolation=cv2.INTER_NEAREST) for image in ship_positive_data])\n",
    "ship_positive_angle = np.array([im_resize(image, interpolation=cv2.INTER_NEAREST) for image in ship_positive_angle])\n",
    "# combine data and angle into 2 band images\n",
    "data = np.concatenate([ship_positive_80[:, :, :, np.newaxis], ship_positive_angle[:, :, :, np.newaxis]], axis=-1)\n",
    "\n",
    "#data = ship_positive_80\n",
    "target = np.array([im_resize(image, interpolation=cv2.INTER_NEAREST) for image in ship_positive_target])"
   ]
  },
  {
   "cell_type": "markdown",
   "metadata": {},
   "source": [
    "unmute to include **false positives** into analysis"
   ]
  },
  {
   "cell_type": "markdown",
   "metadata": {},
   "source": [
    "#get false positive data\n",
    "false_positives_data = data_extract(false_positives, 'windowfu')\n",
    "false_positives_angle = data_extract(false_positives, 'incidenceangle')\n",
    "false_positives_target = data_extract(false_positives, 'thresh')\n",
    "\n",
    "#Resize the images\n",
    "false_positives_80 = np.array([im_resize(image) for image in false_positives_data])\n",
    "false_positives_angle = np.array([im_resize(image) for image in false_positives_angle])"
   ]
  },
  {
   "cell_type": "markdown",
   "metadata": {},
   "source": [
    "unmute to include **true negatives** into analysis"
   ]
  },
  {
   "cell_type": "markdown",
   "metadata": {},
   "source": [
    "#get true negative data\n",
    "true_negatives_data = data_extract(true_negatives, 'windowfu')\n",
    "true_negatives_angle = data_extract(true_negatives, 'incidenceangle')\n",
    "#for image class\n",
    "true_negatives_target = data_extract(true_negatives, 'thresh')\n",
    "\n",
    "#Resize the images\n",
    "true_negatives_80 = np.array([im_resize(image) for image in true_negatives_data])\n",
    "true_negatives_angle = np.array([im_resize(image) for image in true_negatives_angle])"
   ]
  },
  {
   "cell_type": "markdown",
   "metadata": {},
   "source": [
    "### Data visualization"
   ]
  },
  {
   "cell_type": "code",
   "execution_count": 181,
   "metadata": {
    "scrolled": true
   },
   "outputs": [
    {
     "data": {
      "text/plain": [
       "Text(0.5, 1.0, 'radar data')"
      ]
     },
     "execution_count": 181,
     "metadata": {},
     "output_type": "execute_result"
    },
    {
     "data": {
      "text/plain": [
       "<Figure size 432x288 with 0 Axes>"
      ]
     },
     "metadata": {},
     "output_type": "display_data"
    },
    {
     "data": {
      "image/png": "[encoded data removed]",
      "text/plain": [
       "<Figure size 720x720 with 3 Axes>"
      ]
     },
     "metadata": {
      "needs_background": "light"
     },
     "output_type": "display_data"
    }
   ],
   "source": [
    "# visualize image samples \n",
    "plt.figure()\n",
    "\n",
    "#subplot(r,c) provide the no. of rows and columns\n",
    "f, axarr = plt.subplots(1,3, figsize=(10, 10)) \n",
    "\n",
    "# use the created array to output your multiple images. \n",
    "axarr[0].imshow(ship_positive_data[1200,:,:])\n",
    "axarr[0].set_title('radar data')\n",
    "axarr[1].imshow(ship_positive_data[14,:,:])  \n",
    "axarr[1].set_title('radar data')\n",
    "axarr[2].imshow(ship_positive_data[43,:,:])\n",
    "axarr[2].set_title('radar data')"
   ]
  },
  {
   "cell_type": "code",
   "execution_count": 182,
   "metadata": {},
   "outputs": [
    {
     "data": {
      "text/plain": [
       "Text(0.5, 1.0, 'target data')"
      ]
     },
     "execution_count": 182,
     "metadata": {},
     "output_type": "execute_result"
    },
    {
     "data": {
      "text/plain": [
       "<Figure size 432x288 with 0 Axes>"
      ]
     },
     "metadata": {},
     "output_type": "display_data"
    },
    {
     "data": {
      "image/png": "[encoded data removed]",
      "text/plain": [
       "<Figure size 720x720 with 3 Axes>"
      ]
     },
     "metadata": {
      "needs_background": "light"
     },
     "output_type": "display_data"
    }
   ],
   "source": [
    "# visualize target samples\n",
    "plt.figure()\n",
    "\n",
    "#subplot(r,c) provide the no. of rows and columns\n",
    "f, axarr = plt.subplots(1,3, figsize=(10, 10)) \n",
    "\n",
    "axarr[0].imshow(ship_positive_target[1200,:,:], cmap=\"gray\") \n",
    "axarr[0].set_title('target data')\n",
    "axarr[1].imshow(ship_positive_target[14,:,:], cmap=\"gray\") \n",
    "axarr[1].set_title('target data')\n",
    "axarr[2].imshow(ship_positive_target[43,:,:], cmap=\"gray\") \n",
    "axarr[2].set_title('target data')"
   ]
  },
  {
   "cell_type": "markdown",
   "metadata": {},
   "source": [
    "### Resized (80x80) "
   ]
  },
  {
   "cell_type": "code",
   "execution_count": 183,
   "metadata": {
    "scrolled": false
   },
   "outputs": [
    {
     "data": {
      "text/plain": [
       "Text(0.5, 1.0, 'ship')"
      ]
     },
     "execution_count": 183,
     "metadata": {},
     "output_type": "execute_result"
    },
    {
     "data": {
      "text/plain": [
       "<Figure size 432x288 with 0 Axes>"
      ]
     },
     "metadata": {},
     "output_type": "display_data"
    },
    {
     "data": {
      "image/png": "[encoded data removed]",
      "text/plain": [
       "<Figure size 864x864 with 3 Axes>"
      ]
     },
     "metadata": {
      "needs_background": "light"
     },
     "output_type": "display_data"
    }
   ],
   "source": [
    "# visualize image samples \n",
    "plt.figure()\n",
    "\n",
    "#subplot(r,c) provide the no. of rows and columns\n",
    "f, axarr = plt.subplots(1,3, figsize=(12, 12)) \n",
    "\n",
    "# use the created array to output your multiple images.\n",
    "axarr[0].imshow(ship_positive_80[1200,:,:])\n",
    "axarr[0].set_title('ship')\n",
    "axarr[1].imshow(ship_positive_80[14,:,:])  \n",
    "axarr[1].set_title('ship')\n",
    "axarr[2].imshow(ship_positive_80[43,:,:])\n",
    "axarr[2].set_title('ship')"
   ]
  },
  {
   "cell_type": "markdown",
   "metadata": {},
   "source": [
    "# combining all the classes into one array\n",
    "radar_data = np.concatenate([ship_positive_80, false_positives_80, true_negatives_80])\n",
    "angle_data = np.concatenate([ship_positive_angle, false_positives_angle, true_negatives_angle])\n",
    "target = np.concatenate([ship_positive_target, false_positives_target, true_negatives_target])"
   ]
  },
  {
   "cell_type": "markdown",
   "metadata": {},
   "source": [
    "# combining 2 band into one array\n",
    "#data = np.concatenate([radar_data[:, :, :, np.newaxis], angle_data[:, :, :, np.newaxis]], axis=-1)                   "
   ]
  },
  {
   "cell_type": "markdown",
   "metadata": {
    "scrolled": true
   },
   "source": [
    "#0 - true negative\n",
    "#1 - true positive\n",
    "#2 - false positive\n",
    "class_label = {\n",
    "    0: 'random noise',\n",
    "    1: 'ship-like',\n",
    "    2: 'ship'\n",
    "}\n",
    "\n",
    "#give class labes to the target values\n",
    "labeled_target = np.vectorize(class_label.get)(target)\n",
    "\n",
    "pd.DataFrame([dict(Counter(labeled_target))])"
   ]
  },
  {
   "cell_type": "code",
   "execution_count": 184,
   "metadata": {},
   "outputs": [
    {
     "name": "stdout",
     "output_type": "stream",
     "text": [
      "data split: \n",
      "Train: \t    957 \n",
      "Validation: 240 \n",
      "Test: \t    399\n"
     ]
    }
   ],
   "source": [
    "from sklearn.model_selection import train_test_split\n",
    "# Define the data split strategy\n",
    "def data_split(data, target, train_size, test_size): \n",
    "    ''' Train-validation-test split'''\n",
    "\n",
    "    # split data to get the initial training test split\n",
    "    X_train, X_test, y_train, y_test = train_test_split(data, target, random_state=1, \n",
    "                                                train_size=train_size) # no stratification here\n",
    "    \n",
    "    # split data to get train validation split\n",
    "    X_train_cv, X_valid, y_train_cv, y_valid = train_test_split( X_train, y_train, random_state=1,\n",
    "                                                test_size = valid_size) \n",
    "    \n",
    "    return  X_train_cv, X_valid, X_test, y_train_cv, y_valid, y_test\n",
    "\n",
    "# define split parameters\n",
    "train_size = 0.75\n",
    "valid_size = 0.20\n",
    "\n",
    "X_train_cv, X_valid, X_test, y_train_cv, y_valid, y_test = data_split(data, target, train_size, valid_size )\n",
    "print(f'data split: \\nTrain: \\t    {X_train_cv.shape[0]} \\nValidation: {X_valid.shape[0]} \\nTest: \\t    {X_test.shape[0]}')"
   ]
  },
  {
   "cell_type": "markdown",
   "metadata": {},
   "source": [
    "## Buiding the Model"
   ]
  },
  {
   "cell_type": "code",
   "execution_count": 185,
   "metadata": {},
   "outputs": [],
   "source": [
    "#Import Keras.\n",
    "from matplotlib import pyplot\n",
    "from keras.preprocessing.image import ImageDataGenerator\n",
    "from keras.models import Sequential\n",
    "from keras.layers import Conv2D, MaxPooling2D,UpSampling2D, Dense, Dropout, Input, Flatten, Activation, Reshape\n",
    "from keras.layers import GlobalMaxPooling2D\n",
    "from keras.layers.normalization import BatchNormalization\n",
    "from keras.layers.merge import Concatenate\n",
    "from keras.models import Model\n",
    "from keras import initializers\n",
    "from keras.optimizers import Adam, SGD, RMSprop\n",
    "from keras.callbacks import ModelCheckpoint, Callback, EarlyStopping\n",
    "from keras.metrics import binary_accuracy\n",
    "from sklearn.metrics import classification_report, confusion_matrix\n",
    "#import tensorflow_adons as tfa"
   ]
  },
  {
   "cell_type": "code",
   "execution_count": 190,
   "metadata": {},
   "outputs": [],
   "source": [
    "# Deschesne ship detection model\n",
    "def deschesne_model():\n",
    "    model = Sequential()\n",
    "    \n",
    "    # conv block 1\n",
    "    model.add(Conv2D(128, kernel_size=(3,3), activation='relu', padding='same', input_shape=(80,80,2)))\n",
    "    model.add(Conv2D(256, kernel_size=(3,3), activation='relu', padding='same'))\n",
    "    model.add(MaxPooling2D((2,2))) # does this make 80x80 => 40x40 ?\n",
    "    model.add(Dropout(0.1))\n",
    "    \n",
    "    # conv block 2\n",
    "    model.add(Conv2D(256, kernel_size=(3,3), activation='relu', padding='same'))\n",
    "    model.add(Conv2D(512, kernel_size=(3,3), activation='relu', padding='same'))\n",
    "    model.add(MaxPooling2D((2,2))) # image size: 80x80 => 40x40\n",
    "    model.add(Dropout(0.1))\n",
    "              \n",
    "    # conv block 3\n",
    "    model.add(Conv2D(512, kernel_size=(3,3), activation='relu', padding='same'))\n",
    "    model.add(Conv2D(512, kernel_size=(3,3), activation='relu', padding='same'))\n",
    "    model.add(Conv2D(64, kernel_size=(3,3), activation='relu', padding='same'))\n",
    "    \n",
    "    #Flatten the data for upcoming dense layers\n",
    "    #model.add(Flatten())\n",
    "    \n",
    "    # fully connected block 1\n",
    "    #model.add(Dense(64))\n",
    "    model.add(Conv2D(64, kernel_size=(3,3), activation='relu', padding='same'))\n",
    "    \n",
    "    # reshape the tensor vector indo NxN for passing into Conv2D\n",
    "    #model.add(Reshape((20,20), input_shape=(12,)))\n",
    "    model.add(UpSampling2D(size=(2,2)))\n",
    "    model.add(Dropout(0.1))\n",
    "              \n",
    "    # conv block 4\n",
    "    model.add(Conv2D(64, kernel_size=(3,3), activation='relu', padding='same'))\n",
    "    model.add(Conv2D(64, kernel_size=(3,3), activation='relu', padding='same'))\n",
    "    model.add(UpSampling2D(size=(2,2)))\n",
    "    model.add(Dropout(0.1))\n",
    "              \n",
    "    # output Layer\n",
    "    #model.add(Dense(3))                                       # set 3 classes for the last output layer\n",
    "    model.add(Conv2D(1, kernel_size=(3,3), activation='relu', padding='same'))   # set 'softmax' as activation for multiclass classif\n",
    "    \n",
    "    # compile model\n",
    "    #mypotim = SGD(lr=0.01, momentum=0.9)\n",
    "    mypotim=Adam(lr=0.001, beta_1=0.9, beta_2=0.999, epsilon=1e-08, decay=0.0)\n",
    "    #mypotim = RMSprop(lr=0.001)\n",
    "    model.compile(loss='binary_crossentropy', #'sparse_categorical_crossentropy',  \n",
    "                  optimizer=mypotim,\n",
    "                  metrics=['accuracy'])                     \n",
    "    model.summary()\n",
    "    return model\n",
    "\n",
    "\n",
    "def get_callbacks(filepath, patience=2):\n",
    "    es = EarlyStopping('val_loss', patience=patience, mode=\"min\")\n",
    "    msave = ModelCheckpoint(filepath, save_best_only=True)\n",
    "    return [es, msave]\n",
    "\n",
    "# save the best weights\n",
    "file_path = \".model_weights_Deschesne_pixel_wise.hdf5\"\n",
    "callbacks = get_callbacks(filepath=file_path, patience=10) # increased the \"patience\""
   ]
  },
  {
   "cell_type": "code",
   "execution_count": 186,
   "metadata": {},
   "outputs": [
    {
     "data": {
      "text/plain": [
       "(957, 80, 80, 2)"
      ]
     },
     "execution_count": 186,
     "metadata": {},
     "output_type": "execute_result"
    }
   ],
   "source": [
    "X_train_cv.shape"
   ]
  },
  {
   "cell_type": "code",
   "execution_count": 191,
   "metadata": {
    "scrolled": false
   },
   "outputs": [
    {
     "name": "stdout",
     "output_type": "stream",
     "text": [
      "Model: \"sequential_7\"\n",
      "_________________________________________________________________\n",
      "Layer (type)                 Output Shape              Param #   \n",
      "=================================================================\n",
      "conv2d_37 (Conv2D)           (None, 80, 80, 128)       2432      \n",
      "_________________________________________________________________\n",
      "conv2d_38 (Conv2D)           (None, 80, 80, 256)       295168    \n",
      "_________________________________________________________________\n",
      "max_pooling2d_7 (MaxPooling2 (None, 40, 40, 256)       0         \n",
      "_________________________________________________________________\n",
      "dropout_13 (Dropout)         (None, 40, 40, 256)       0         \n",
      "_________________________________________________________________\n",
      "conv2d_39 (Conv2D)           (None, 40, 40, 256)       590080    \n",
      "_________________________________________________________________\n",
      "conv2d_40 (Conv2D)           (None, 40, 40, 512)       1180160   \n",
      "_________________________________________________________________\n",
      "max_pooling2d_8 (MaxPooling2 (None, 20, 20, 512)       0         \n",
      "_________________________________________________________________\n",
      "dropout_14 (Dropout)         (None, 20, 20, 512)       0         \n",
      "_________________________________________________________________\n",
      "conv2d_41 (Conv2D)           (None, 20, 20, 512)       2359808   \n",
      "_________________________________________________________________\n",
      "conv2d_42 (Conv2D)           (None, 20, 20, 512)       2359808   \n",
      "_________________________________________________________________\n",
      "conv2d_43 (Conv2D)           (None, 20, 20, 64)        294976    \n",
      "_________________________________________________________________\n",
      "conv2d_44 (Conv2D)           (None, 20, 20, 64)        36928     \n",
      "_________________________________________________________________\n",
      "up_sampling2d_7 (UpSampling2 (None, 40, 40, 64)        0         \n",
      "_________________________________________________________________\n",
      "dropout_15 (Dropout)         (None, 40, 40, 64)        0         \n",
      "_________________________________________________________________\n",
      "conv2d_45 (Conv2D)           (None, 40, 40, 64)        36928     \n",
      "_________________________________________________________________\n",
      "conv2d_46 (Conv2D)           (None, 40, 40, 64)        36928     \n",
      "_________________________________________________________________\n",
      "up_sampling2d_8 (UpSampling2 (None, 80, 80, 64)        0         \n",
      "_________________________________________________________________\n",
      "dropout_16 (Dropout)         (None, 80, 80, 64)        0         \n",
      "_________________________________________________________________\n",
      "conv2d_47 (Conv2D)           (None, 80, 80, 1)         577       \n",
      "=================================================================\n",
      "Total params: 7,193,793\n",
      "Trainable params: 7,193,793\n",
      "Non-trainable params: 0\n",
      "_________________________________________________________________\n"
     ]
    },
    {
     "ename": "ValueError",
     "evalue": "Error when checking target: expected conv2d_47 to have 4 dimensions, but got array with shape (957, 80, 80)",
     "output_type": "error",
     "traceback": [
      "\u001b[1;31m---------------------------------------------------------------------------\u001b[0m",
      "\u001b[1;31mValueError\u001b[0m                                Traceback (most recent call last)",
      "\u001b[1;32m<ipython-input-191-fe190dc6965b>\u001b[0m in \u001b[0;36m<module>\u001b[1;34m\u001b[0m\n\u001b[0;32m      6\u001b[0m           \u001b[0mverbose\u001b[0m\u001b[1;33m=\u001b[0m\u001b[1;36m1\u001b[0m\u001b[1;33m,\u001b[0m\u001b[1;33m\u001b[0m\u001b[1;33m\u001b[0m\u001b[0m\n\u001b[0;32m      7\u001b[0m           \u001b[0mvalidation_data\u001b[0m\u001b[1;33m=\u001b[0m\u001b[1;33m(\u001b[0m\u001b[0mX_valid\u001b[0m\u001b[1;33m,\u001b[0m \u001b[0my_valid\u001b[0m\u001b[1;33m)\u001b[0m\u001b[1;33m,\u001b[0m\u001b[1;33m\u001b[0m\u001b[1;33m\u001b[0m\u001b[0m\n\u001b[1;32m----> 8\u001b[1;33m           callbacks=callbacks)\n\u001b[0m",
      "\u001b[1;32mc:\\users\\arman\\anaconda3\\envs\\ship_nn\\lib\\site-packages\\keras\\engine\\training.py\u001b[0m in \u001b[0;36mfit\u001b[1;34m(self, x, y, batch_size, epochs, verbose, callbacks, validation_split, validation_data, shuffle, class_weight, sample_weight, initial_epoch, steps_per_epoch, validation_steps, validation_freq, max_queue_size, workers, use_multiprocessing, **kwargs)\u001b[0m\n\u001b[0;32m   1152\u001b[0m             \u001b[0msample_weight\u001b[0m\u001b[1;33m=\u001b[0m\u001b[0msample_weight\u001b[0m\u001b[1;33m,\u001b[0m\u001b[1;33m\u001b[0m\u001b[1;33m\u001b[0m\u001b[0m\n\u001b[0;32m   1153\u001b[0m             \u001b[0mclass_weight\u001b[0m\u001b[1;33m=\u001b[0m\u001b[0mclass_weight\u001b[0m\u001b[1;33m,\u001b[0m\u001b[1;33m\u001b[0m\u001b[1;33m\u001b[0m\u001b[0m\n\u001b[1;32m-> 1154\u001b[1;33m             batch_size=batch_size)\n\u001b[0m\u001b[0;32m   1155\u001b[0m \u001b[1;33m\u001b[0m\u001b[0m\n\u001b[0;32m   1156\u001b[0m         \u001b[1;31m# Prepare validation data.\u001b[0m\u001b[1;33m\u001b[0m\u001b[1;33m\u001b[0m\u001b[1;33m\u001b[0m\u001b[0m\n",
      "\u001b[1;32mc:\\users\\arman\\anaconda3\\envs\\ship_nn\\lib\\site-packages\\keras\\engine\\training.py\u001b[0m in \u001b[0;36m_standardize_user_data\u001b[1;34m(self, x, y, sample_weight, class_weight, check_array_lengths, batch_size)\u001b[0m\n\u001b[0;32m    619\u001b[0m                 \u001b[0mfeed_output_shapes\u001b[0m\u001b[1;33m,\u001b[0m\u001b[1;33m\u001b[0m\u001b[1;33m\u001b[0m\u001b[0m\n\u001b[0;32m    620\u001b[0m                 \u001b[0mcheck_batch_axis\u001b[0m\u001b[1;33m=\u001b[0m\u001b[1;32mFalse\u001b[0m\u001b[1;33m,\u001b[0m  \u001b[1;31m# Don't enforce the batch size.\u001b[0m\u001b[1;33m\u001b[0m\u001b[1;33m\u001b[0m\u001b[0m\n\u001b[1;32m--> 621\u001b[1;33m                 exception_prefix='target')\n\u001b[0m\u001b[0;32m    622\u001b[0m \u001b[1;33m\u001b[0m\u001b[0m\n\u001b[0;32m    623\u001b[0m             \u001b[1;31m# Generate sample-wise weight values given the `sample_weight` and\u001b[0m\u001b[1;33m\u001b[0m\u001b[1;33m\u001b[0m\u001b[1;33m\u001b[0m\u001b[0m\n",
      "\u001b[1;32mc:\\users\\arman\\anaconda3\\envs\\ship_nn\\lib\\site-packages\\keras\\engine\\training_utils.py\u001b[0m in \u001b[0;36mstandardize_input_data\u001b[1;34m(data, names, shapes, check_batch_axis, exception_prefix)\u001b[0m\n\u001b[0;32m    133\u001b[0m                         \u001b[1;34m': expected '\u001b[0m \u001b[1;33m+\u001b[0m \u001b[0mnames\u001b[0m\u001b[1;33m[\u001b[0m\u001b[0mi\u001b[0m\u001b[1;33m]\u001b[0m \u001b[1;33m+\u001b[0m \u001b[1;34m' to have '\u001b[0m \u001b[1;33m+\u001b[0m\u001b[1;33m\u001b[0m\u001b[1;33m\u001b[0m\u001b[0m\n\u001b[0;32m    134\u001b[0m                         \u001b[0mstr\u001b[0m\u001b[1;33m(\u001b[0m\u001b[0mlen\u001b[0m\u001b[1;33m(\u001b[0m\u001b[0mshape\u001b[0m\u001b[1;33m)\u001b[0m\u001b[1;33m)\u001b[0m \u001b[1;33m+\u001b[0m \u001b[1;34m' dimensions, but got array '\u001b[0m\u001b[1;33m\u001b[0m\u001b[1;33m\u001b[0m\u001b[0m\n\u001b[1;32m--> 135\u001b[1;33m                         'with shape ' + str(data_shape))\n\u001b[0m\u001b[0;32m    136\u001b[0m                 \u001b[1;32mif\u001b[0m \u001b[1;32mnot\u001b[0m \u001b[0mcheck_batch_axis\u001b[0m\u001b[1;33m:\u001b[0m\u001b[1;33m\u001b[0m\u001b[1;33m\u001b[0m\u001b[0m\n\u001b[0;32m    137\u001b[0m                     \u001b[0mdata_shape\u001b[0m \u001b[1;33m=\u001b[0m \u001b[0mdata_shape\u001b[0m\u001b[1;33m[\u001b[0m\u001b[1;36m1\u001b[0m\u001b[1;33m:\u001b[0m\u001b[1;33m]\u001b[0m\u001b[1;33m\u001b[0m\u001b[1;33m\u001b[0m\u001b[0m\n",
      "\u001b[1;31mValueError\u001b[0m: Error when checking target: expected conv2d_47 to have 4 dimensions, but got array with shape (957, 80, 80)"
     ]
    }
   ],
   "source": [
    "\n",
    "#Without denoising, core features.\n",
    "gmodel=deschesne_model()\n",
    "gmodel.fit(X_train_cv, y_train_cv,\n",
    "          batch_size=24,\n",
    "          epochs=50,\n",
    "          verbose=1,\n",
    "          validation_data=(X_valid, y_valid),\n",
    "          callbacks=callbacks)"
   ]
  },
  {
   "cell_type": "code",
   "execution_count": null,
   "metadata": {},
   "outputs": [],
   "source": [
    "\n",
    "# model validation evaluation\n",
    "gmodel.load_weights(weigth_path)\n",
    "score = gmodel.evaluate(X_valid, y_valid, verbose=1)\n",
    "print('Test loss:', score[0])\n",
    "print('Test accuracy:', score[1])"
   ]
  },
  {
   "cell_type": "code",
   "execution_count": null,
   "metadata": {},
   "outputs": [],
   "source": [
    "# model test evaluation\n",
    "score = gmodel.evaluate(X_test, y_test, verbose=1)\n",
    "print('Test loss:', score[0])\n",
    "print('Test accuracy:', score[1])"
   ]
  },
  {
   "cell_type": "code",
   "execution_count": null,
   "metadata": {},
   "outputs": [],
   "source": [
    "y_pred = gmodel.predict(X_test, batch_size=64, verbose=1)\n",
    "y_pred_bool = np.argmax(y_pred, axis=1)\n",
    "labels = np.array(['random noise 0', 'ship-like 1', 'ship 2'])\n",
    "\n",
    "print()\n",
    "print(classification_report(y_test, y_pred_bool, target_names=labels))\n",
    "print('Confusion matrix \\n', confusion_matrix(y_test, y_pred_bool))"
   ]
  },
  {
   "cell_type": "code",
   "execution_count": null,
   "metadata": {},
   "outputs": [],
   "source": [
    "# get the indexes of the images being wrongly classified\n",
    "#incorrects = np.argwhere(y_pred_bool != y_test)\n",
    "incorrects = np.nonzero(y_pred_bool != y_test)[0]\n",
    "incorrects"
   ]
  },
  {
   "cell_type": "code",
   "execution_count": null,
   "metadata": {},
   "outputs": [],
   "source": [
    "# visualize image samples \n",
    "\n",
    "plt.figure()\n",
    "\n",
    "#subplot(r,c) provide the no. of rows and columns\n",
    "f, axarr = plt.subplots(1,4, figsize=(15, 15)) \n",
    "\n",
    "# use the created array to output your multiple images. In this case I have stacked 4 images vertically\n",
    "axarr[0].imshow(ship_positive_75[3,:,:], cmap=\"gray\")\n",
    "axarr[0].set_title('ship')\n",
    "axarr[1].imshow(ship_positive_75[54,:,:], cmap=\"gray\")  \n",
    "axarr[1].set_title('ship')\n",
    "axarr[2].imshow(ship_positive_75[86,:,:], cmap=\"gray\")\n",
    "axarr[2].set_title('ship-like')\n",
    "axarr[3].imshow(ship_positive_75[1119,:,:], cmap=\"gray\") \n",
    "axarr[3].set_title('random noise')"
   ]
  }
 ],
 "metadata": {
  "kernelspec": {
   "display_name": "Python 3",
   "language": "python",
   "name": "python3"
  },
  "language_info": {
   "codemirror_mode": {
    "name": "ipython",
    "version": 3
   },
   "file_extension": ".py",
   "mimetype": "text/x-python",
   "name": "python",
   "nbconvert_exporter": "python",
   "pygments_lexer": "ipython3",
   "version": "3.7.6"
  }
 },
 "nbformat": 4,
 "nbformat_minor": 4
}
