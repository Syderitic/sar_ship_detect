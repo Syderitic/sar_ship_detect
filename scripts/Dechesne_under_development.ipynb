{
 "cells": [
  {
   "cell_type": "code",
   "execution_count": 1,
   "metadata": {},
   "outputs": [],
   "source": [
    "import os\n",
    "\n",
    "import numpy as np \n",
    "import pandas as pd \n",
    "from collections import Counter\n",
    "from os.path import join\n",
    "from matplotlib import pyplot as plt\n",
    "from mpl_toolkits.mplot3d import Axes3D\n",
    "import pylab\n",
    "import cv2\n",
    "%matplotlib inline"
   ]
  },
  {
   "cell_type": "code",
   "execution_count": 2,
   "metadata": {},
   "outputs": [],
   "source": [
    "PATH = r'C:\\Users\\arman\\Documents\\GitHub\\sar_ship_detect'\n",
    "#data_path = join(os. getcwd(), '..','data', 'Iceberg-classifier-challenge')\n",
    "data_path = join(PATH, 'data', 'very_deep_learn_data', 'json')"
   ]
  },
  {
   "cell_type": "code",
   "execution_count": 3,
   "metadata": {
    "scrolled": true
   },
   "outputs": [
    {
     "data": {
      "text/plain": [
       "['false_positives.json', 'ship_positives.json', 'true_negatives.json']"
      ]
     },
     "execution_count": 3,
     "metadata": {},
     "output_type": "execute_result"
    }
   ],
   "source": [
    "os.listdir(data_path)"
   ]
  },
  {
   "cell_type": "code",
   "execution_count": 4,
   "metadata": {},
   "outputs": [],
   "source": [
    "#Load the data.\n",
    "#false_positives = pd.read_json(join(data_path, 'false_positives.json'))\n",
    "ship_positives = pd.read_json(join(data_path, 'ship_positives.json'))\n",
    "#true_negatives = pd.read_json(join(data_path, 'true_negatives.json'))"
   ]
  },
  {
   "cell_type": "code",
   "execution_count": 5,
   "metadata": {},
   "outputs": [
    {
     "name": "stdout",
     "output_type": "stream",
     "text": [
      "true_positives:  (1, 1596)\n"
     ]
    }
   ],
   "source": [
    "print('true_positives: ',ship_positives.shape)\n",
    "#print('false_positives:',false_positives.shape) # not corresponding to the data sescribtion, should be checked out\n",
    "#print('true_negatives: ',true_negatives.shape)"
   ]
  },
  {
   "cell_type": "code",
   "execution_count": 6,
   "metadata": {},
   "outputs": [],
   "source": [
    "# define function for data extraction\n",
    "def data_extract(data_frame, dict_key):\n",
    "    \"\"\"Extract data from json file and \n",
    "    transform it as ndarray\"\"\"\n",
    "    #dict_key: should be text\n",
    "    \n",
    "    list_of_bands = []\n",
    "    for i in range(data_frame.shape[1]):\n",
    "        single_arr = data_frame[i][0][dict_key]\n",
    "        \n",
    "        # we need to recover the incidence angle as a band image\n",
    "        if dict_key == 'incidenceangle':\n",
    "            band = np.full((21, 21), single_arr)\n",
    "        else:\n",
    "            band = single_arr\n",
    "            \n",
    "        list_of_bands.append(band)\n",
    "\n",
    "    return np.array(list_of_bands)\n",
    "\n",
    "# define function form image re-sizing\n",
    "dsize = (80, 80)\n",
    "def im_resize(img,interpolation):\n",
    "    resized = cv2.resize(img, dsize=dsize, interpolation=interpolation) #cv2.INTER_CUBIC #cv2.INTER_NEAREST\n",
    "    return resized"
   ]
  },
  {
   "cell_type": "markdown",
   "metadata": {},
   "source": [
    "### Data extracton and resizing"
   ]
  },
  {
   "cell_type": "code",
   "execution_count": 8,
   "metadata": {
    "scrolled": true
   },
   "outputs": [],
   "source": [
    "# get true positive data\n",
    "ship_positive_data = data_extract(ship_positives, 'windowfu')\n",
    "# ship_positive_target = data_extract(ship_positives, 'validais')\n",
    "ship_positive_angle = data_extract(ship_positives, 'incidenceangle')\n",
    "# define ship target class as \"2\" for image class\n",
    "# ship_positive_target = np.full(ship_positives.shape[1], 2) \n",
    "# pixel based classes \n",
    "ship_positive_target = data_extract(ship_positives, 'windowgt')\n",
    "\n",
    "# Resize the images\n",
    "ship_positive_80 = np.array([im_resize(image, interpolation=cv2.INTER_NEAREST) for image in ship_positive_data])\n",
    "ship_positive_angle = np.array([im_resize(image, interpolation=cv2.INTER_NEAREST) for image in ship_positive_angle])\n",
    "# combine data and angle into 2 band images\n",
    "data = np.concatenate([ship_positive_80[:, :, :, np.newaxis], ship_positive_angle[:, :, :, np.newaxis]], axis=-1)\n",
    "\n",
    "#data = ship_positive_80\n",
    "target = np.array([im_resize(image, interpolation=cv2.INTER_NEAREST) for image in ship_positive_target])\n",
    "target = np.array(target[:,:,:,np.newaxis])"
   ]
  },
  {
   "cell_type": "markdown",
   "metadata": {},
   "source": [
    "### Data visualization"
   ]
  },
  {
   "cell_type": "code",
   "execution_count": 9,
   "metadata": {
    "scrolled": true
   },
   "outputs": [
    {
     "data": {
      "text/plain": [
       "Text(0.5, 1.0, 'radar data')"
      ]
     },
     "execution_count": 9,
     "metadata": {},
     "output_type": "execute_result"
    },
    {
     "data": {
      "text/plain": [
       "<Figure size 432x288 with 0 Axes>"
      ]
     },
     "metadata": {},
     "output_type": "display_data"
    },
    {
     "data": {
      "image/png": "[encoded data removed]",
      "text/plain": [
       "<Figure size 720x720 with 3 Axes>"
      ]
     },
     "metadata": {
      "needs_background": "light"
     },
     "output_type": "display_data"
    }
   ],
   "source": [
    "# visualize image samples \n",
    "plt.figure()\n",
    "\n",
    "#subplot(r,c) provide the no. of rows and columns\n",
    "f, axarr = plt.subplots(1,3, figsize=(10, 10)) \n",
    "\n",
    "# use the created array to output your multiple images. \n",
    "axarr[0].imshow(ship_positive_data[1200,:,:])\n",
    "axarr[0].set_title('radar data')\n",
    "axarr[1].imshow(ship_positive_data[14,:,:])  \n",
    "axarr[1].set_title('radar data')\n",
    "axarr[2].imshow(ship_positive_data[43,:,:])\n",
    "axarr[2].set_title('radar data')"
   ]
  },
  {
   "cell_type": "code",
   "execution_count": 9,
   "metadata": {},
   "outputs": [
    {
     "data": {
      "text/plain": [
       "Text(0.5, 1.0, 'target data')"
      ]
     },
     "execution_count": 9,
     "metadata": {},
     "output_type": "execute_result"
    },
    {
     "data": {
      "text/plain": [
       "<Figure size 432x288 with 0 Axes>"
      ]
     },
     "metadata": {},
     "output_type": "display_data"
    },
    {
     "data": {
      "image/png": "[encoded data removed]",
      "text/plain": [
       "<Figure size 720x720 with 3 Axes>"
      ]
     },
     "metadata": {
      "needs_background": "light"
     },
     "output_type": "display_data"
    }
   ],
   "source": [
    "# visualize target samples\n",
    "plt.figure()\n",
    "\n",
    "#subplot(r,c) provide the no. of rows and columns\n",
    "f, axarr = plt.subplots(1,3, figsize=(10, 10)) \n",
    "\n",
    "axarr[0].imshow(ship_positive_target[1200,:,:], cmap=\"gray\") \n",
    "axarr[0].set_title('target data')\n",
    "axarr[1].imshow(ship_positive_target[14,:,:], cmap=\"gray\") \n",
    "axarr[1].set_title('target data')\n",
    "axarr[2].imshow(ship_positive_target[43,:,:], cmap=\"gray\") \n",
    "axarr[2].set_title('target data')"
   ]
  },
  {
   "cell_type": "markdown",
   "metadata": {},
   "source": [
    "### Resized (80x80) "
   ]
  },
  {
   "cell_type": "code",
   "execution_count": 10,
   "metadata": {
    "scrolled": false
   },
   "outputs": [
    {
     "data": {
      "text/plain": [
       "Text(0.5, 1.0, 'ship')"
      ]
     },
     "execution_count": 10,
     "metadata": {},
     "output_type": "execute_result"
    },
    {
     "data": {
      "text/plain": [
       "<Figure size 432x288 with 0 Axes>"
      ]
     },
     "metadata": {},
     "output_type": "display_data"
    },
    {
     "data": {
      "image/png": "[encoded data removed]",
      "text/plain": [
       "<Figure size 864x864 with 3 Axes>"
      ]
     },
     "metadata": {
      "needs_background": "light"
     },
     "output_type": "display_data"
    }
   ],
   "source": [
    "# visualize image samples \n",
    "plt.figure()\n",
    "\n",
    "#subplot(r,c) provide the no. of rows and columns\n",
    "f, axarr = plt.subplots(1,3, figsize=(12, 12)) \n",
    "\n",
    "# use the created array to output your multiple images.\n",
    "axarr[0].imshow(ship_positive_80[1200,:,:])\n",
    "axarr[0].set_title('ship')\n",
    "axarr[1].imshow(ship_positive_80[14,:,:])  \n",
    "axarr[1].set_title('ship')\n",
    "axarr[2].imshow(ship_positive_80[43,:,:])\n",
    "axarr[2].set_title('ship')"
   ]
  },
  {
   "cell_type": "code",
   "execution_count": 18,
   "metadata": {},
   "outputs": [
    {
     "name": "stdout",
     "output_type": "stream",
     "text": [
      "data split: \n",
      "Train: \t    957 \n",
      "Validation: 240 \n",
      "Test: \t    399\n"
     ]
    }
   ],
   "source": [
    "from sklearn.model_selection import train_test_split\n",
    "\n",
    "# Define the data split strategy\n",
    "def data_split(data, target, train_size, test_size): \n",
    "    ''' Train-validation-test split'''\n",
    "\n",
    "    # split data to get the initial training test split\n",
    "    X_train, X_test, y_train, y_test = train_test_split(data, target, random_state=1, \n",
    "                                                train_size=train_size) # no stratification here\n",
    "    \n",
    "    # split data to get train validation split\n",
    "    X_train_cv, X_valid, y_train_cv, y_valid = train_test_split( X_train, y_train, random_state=1,\n",
    "                                                test_size = valid_size) \n",
    "    \n",
    "    return  X_train_cv, X_valid, X_test, y_train_cv, y_valid, y_test\n",
    "\n",
    "# define split parameters\n",
    "train_size = 0.75\n",
    "valid_size = 0.20\n",
    "\n",
    "X_train_cv, X_valid, X_test, y_train_cv, y_valid, y_test = data_split(data, target, train_size, valid_size )\n",
    "print(f'data split: \\nTrain: \\t    {X_train_cv.shape[0]} \\nValidation: {X_valid.shape[0]} \\nTest: \\t    {X_test.shape[0]}')"
   ]
  },
  {
   "cell_type": "code",
   "execution_count": 19,
   "metadata": {},
   "outputs": [
    {
     "name": "stdout",
     "output_type": "stream",
     "text": [
      "(1596, 80, 80, 2)\n",
      "(1596, 80, 80, 1)\n"
     ]
    }
   ],
   "source": [
    "print(data.shape)\n",
    "print(target.shape)"
   ]
  },
  {
   "cell_type": "code",
   "execution_count": 12,
   "metadata": {
    "scrolled": true
   },
   "outputs": [
    {
     "data": {
      "text/plain": [
       "(10214400,)"
      ]
     },
     "execution_count": 12,
     "metadata": {},
     "output_type": "execute_result"
    }
   ],
   "source": [
    "target.flatten().shape"
   ]
  },
  {
   "cell_type": "code",
   "execution_count": 14,
   "metadata": {},
   "outputs": [],
   "source": [
    "from sklearn.utils.class_weight import compute_class_weight\n",
    "\n",
    "class_weights = compute_class_weight('balanced', np.unique(target), target.flatten())"
   ]
  },
  {
   "cell_type": "markdown",
   "metadata": {},
   "source": [
    "## Buiding the Model"
   ]
  },
  {
   "cell_type": "code",
   "execution_count": 13,
   "metadata": {},
   "outputs": [
    {
     "name": "stderr",
     "output_type": "stream",
     "text": [
      "Using TensorFlow backend.\n"
     ]
    }
   ],
   "source": [
    "#Import Keras.\n",
    "from matplotlib import pyplot\n",
    "from keras.preprocessing.image import ImageDataGenerator\n",
    "from keras.models import Sequential\n",
    "from keras.layers import Conv2D, MaxPooling2D,UpSampling2D, Dense, Dropout, Input, Flatten, Activation, Reshape\n",
    "from keras.layers import GlobalMaxPooling2D\n",
    "from keras.layers.normalization import BatchNormalization\n",
    "from keras.layers.merge import Concatenate\n",
    "from keras.models import Model\n",
    "from keras import initializers\n",
    "from keras.optimizers import Adam, SGD, RMSprop\n",
    "from keras.callbacks import ModelCheckpoint, Callback, EarlyStopping\n",
    "from keras.metrics import binary_accuracy\n",
    "from sklearn.metrics import classification_report, confusion_matrix\n",
    "#import tensorflow_adons as tfa"
   ]
  },
  {
   "cell_type": "code",
   "execution_count": 15,
   "metadata": {},
   "outputs": [],
   "source": [
    "# Deschesne ship detection model\n",
    "def deschesne_model():\n",
    "    model = Sequential()\n",
    "    \n",
    "    # conv block 1\n",
    "    model.add(Conv2D(128, kernel_size=(3,3), activation='relu', padding='same', input_shape=(80,80,2)))\n",
    "    model.add(Conv2D(256, kernel_size=(3,3), activation='relu', padding='same'))\n",
    "    model.add(MaxPooling2D((2,2))) # does this make 80x80 => 40x40 ?\n",
    "    model.add(Dropout(0.1))\n",
    "    \n",
    "    # conv block 2\n",
    "    model.add(Conv2D(256, kernel_size=(3,3), activation='relu', padding='same'))\n",
    "    model.add(Conv2D(512, kernel_size=(3,3), activation='relu', padding='same'))\n",
    "    model.add(MaxPooling2D((2,2))) # image size: 80x80 => 40x40\n",
    "    model.add(Dropout(0.1))\n",
    "              \n",
    "    # conv block 3\n",
    "    model.add(Conv2D(512, kernel_size=(3,3), activation='relu', padding='same'))\n",
    "    model.add(Conv2D(512, kernel_size=(3,3), activation='relu', padding='same'))\n",
    "    model.add(Conv2D(64, kernel_size=(3,3), activation='relu', padding='same'))\n",
    "    \n",
    "    #Flatten the data for upcoming dense layers\n",
    "    #model.add(Flatten())\n",
    "    # fully connected block 1\n",
    "    #model.add(Dense(64))\n",
    "    \n",
    "    # conv block 4\n",
    "    model.add(Conv2D(64, kernel_size=(3,3), activation='relu', padding='same'))\n",
    "    # reshape the tensor vector indo NxN for passing into Conv2D\n",
    "    #model.add(Reshape((20,20), input_shape=(12,)))\n",
    "    model.add(UpSampling2D(size=(2,2)))\n",
    "    model.add(Dropout(0.1))\n",
    "              \n",
    "    # conv block 4\n",
    "    model.add(Conv2D(64, kernel_size=(3,3), activation='relu', padding='same'))\n",
    "    model.add(Conv2D(64, kernel_size=(3,3), activation='relu', padding='same'))\n",
    "    model.add(UpSampling2D(size=(2,2)))\n",
    "    model.add(Dropout(0.1))\n",
    "              \n",
    "    # output Layer\n",
    "    model.add(Conv2D(1, kernel_size=(3,3), activation='sigmoid', padding='same'))  \n",
    "    \n",
    "    # compile model\n",
    "    #mypotim = SGD(lr=0.01, momentum=0.9)\n",
    "    #mypotim=Adam(lr=0.001, beta_1=0.9, beta_2=0.999, epsilon=1e-08, decay=0.0)\n",
    "    mypotim = RMSprop(lr=0.001)\n",
    "    model.compile(loss='binary_crossentropy', #'sparse_categorical_crossentropy',  \n",
    "                  optimizer=mypotim,\n",
    "                  metrics=['accuracy'])                     \n",
    "    model.summary()\n",
    "    return model\n",
    "\n",
    "\n",
    "def get_callbacks(filepath, patience=2):\n",
    "    es = EarlyStopping('val_loss', patience=patience, mode=\"min\")\n",
    "    msave = ModelCheckpoint(filepath, save_best_only=True)\n",
    "    return [es, msave]\n",
    "\n",
    "# save the best weights\n",
    "weights_path = \".model_weights_Deschesne_pixel_wise.hdf5\"\n",
    "callbacks = get_callbacks(filepath=weights_path, patience=5) # increased the \"patience\""
   ]
  },
  {
   "cell_type": "code",
   "execution_count": 17,
   "metadata": {
    "scrolled": false
   },
   "outputs": [
    {
     "name": "stdout",
     "output_type": "stream",
     "text": [
      "Model: \"sequential_1\"\n",
      "_________________________________________________________________\n",
      "Layer (type)                 Output Shape              Param #   \n",
      "=================================================================\n",
      "conv2d_1 (Conv2D)            (None, 80, 80, 128)       2432      \n",
      "_________________________________________________________________\n",
      "conv2d_2 (Conv2D)            (None, 80, 80, 256)       295168    \n",
      "_________________________________________________________________\n",
      "max_pooling2d_1 (MaxPooling2 (None, 40, 40, 256)       0         \n",
      "_________________________________________________________________\n",
      "dropout_1 (Dropout)          (None, 40, 40, 256)       0         \n",
      "_________________________________________________________________\n",
      "conv2d_3 (Conv2D)            (None, 40, 40, 256)       590080    \n",
      "_________________________________________________________________\n",
      "conv2d_4 (Conv2D)            (None, 40, 40, 512)       1180160   \n",
      "_________________________________________________________________\n",
      "max_pooling2d_2 (MaxPooling2 (None, 20, 20, 512)       0         \n",
      "_________________________________________________________________\n",
      "dropout_2 (Dropout)          (None, 20, 20, 512)       0         \n",
      "_________________________________________________________________\n",
      "conv2d_5 (Conv2D)            (None, 20, 20, 512)       2359808   \n",
      "_________________________________________________________________\n",
      "conv2d_6 (Conv2D)            (None, 20, 20, 512)       2359808   \n",
      "_________________________________________________________________\n",
      "conv2d_7 (Conv2D)            (None, 20, 20, 64)        294976    \n",
      "_________________________________________________________________\n",
      "conv2d_8 (Conv2D)            (None, 20, 20, 64)        36928     \n",
      "_________________________________________________________________\n",
      "up_sampling2d_1 (UpSampling2 (None, 40, 40, 64)        0         \n",
      "_________________________________________________________________\n",
      "dropout_3 (Dropout)          (None, 40, 40, 64)        0         \n",
      "_________________________________________________________________\n",
      "conv2d_9 (Conv2D)            (None, 40, 40, 64)        36928     \n",
      "_________________________________________________________________\n",
      "conv2d_10 (Conv2D)           (None, 40, 40, 64)        36928     \n",
      "_________________________________________________________________\n",
      "up_sampling2d_2 (UpSampling2 (None, 80, 80, 64)        0         \n",
      "_________________________________________________________________\n",
      "dropout_4 (Dropout)          (None, 80, 80, 64)        0         \n",
      "_________________________________________________________________\n",
      "conv2d_11 (Conv2D)           (None, 80, 80, 1)         577       \n",
      "=================================================================\n",
      "Total params: 7,193,793\n",
      "Trainable params: 7,193,793\n",
      "Non-trainable params: 0\n",
      "_________________________________________________________________\n",
      "Train on 957 samples, validate on 240 samples\n",
      "Epoch 1/50\n",
      "957/957 [==============================] - 1158s 1s/step - loss: 69.2334 - accuracy: 0.9493 - val_loss: 0.0926 - val_accuracy: 0.9672\n",
      "Epoch 2/50\n",
      "957/957 [==============================] - 1133s 1s/step - loss: 0.0966 - accuracy: 0.9651 - val_loss: 0.0857 - val_accuracy: 0.9672\n",
      "Epoch 3/50\n",
      "957/957 [==============================] - 1140s 1s/step - loss: 0.0902 - accuracy: 0.9663 - val_loss: 0.0879 - val_accuracy: 0.9708\n",
      "Epoch 4/50\n",
      "957/957 [==============================] - 1137s 1s/step - loss: 0.2040 - accuracy: 0.9676 - val_loss: 0.0866 - val_accuracy: 0.9692\n",
      "Epoch 5/50\n",
      "957/957 [==============================] - 1136s 1s/step - loss: 0.0957 - accuracy: 0.9675 - val_loss: 0.0747 - val_accuracy: 0.9712\n",
      "Epoch 6/50\n",
      "957/957 [==============================] - 1138s 1s/step - loss: 0.0901 - accuracy: 0.9687 - val_loss: 0.0757 - val_accuracy: 0.9715\n",
      "Epoch 7/50\n",
      "957/957 [==============================] - 1148s 1s/step - loss: 0.0903 - accuracy: 0.9696 - val_loss: 0.0547 - val_accuracy: 0.9828\n",
      "Epoch 8/50\n",
      "957/957 [==============================] - 2673s 3s/step - loss: 0.0602 - accuracy: 0.9777 - val_loss: 0.0490 - val_accuracy: 0.9814\n",
      "Epoch 9/50\n",
      "957/957 [==============================] - 1297s 1s/step - loss: 0.0666 - accuracy: 0.9752 - val_loss: 0.0597 - val_accuracy: 0.9766\n",
      "Epoch 10/50\n",
      "957/957 [==============================] - 1275s 1s/step - loss: 0.0517 - accuracy: 0.9804 - val_loss: 0.0523 - val_accuracy: 0.9791\n",
      "Epoch 11/50\n",
      "957/957 [==============================] - 1309s 1s/step - loss: 0.0506 - accuracy: 0.9812 - val_loss: 0.0399 - val_accuracy: 0.9860\n",
      "Epoch 12/50\n",
      "957/957 [==============================] - 1140s 1s/step - loss: 0.0581 - accuracy: 0.9819 - val_loss: 0.0407 - val_accuracy: 0.9872\n",
      "Epoch 13/50\n",
      "957/957 [==============================] - 1133s 1s/step - loss: 0.0454 - accuracy: 0.9831 - val_loss: 0.0468 - val_accuracy: 0.9815\n",
      "Epoch 14/50\n",
      "957/957 [==============================] - 1138s 1s/step - loss: 0.0452 - accuracy: 0.9830 - val_loss: 0.0432 - val_accuracy: 0.9857\n",
      "Epoch 15/50\n",
      "957/957 [==============================] - 1135s 1s/step - loss: 0.0441 - accuracy: 0.9841 - val_loss: 0.0343 - val_accuracy: 0.9859\n",
      "Epoch 16/50\n",
      "957/957 [==============================] - 1140s 1s/step - loss: 0.0409 - accuracy: 0.9842 - val_loss: 0.0404 - val_accuracy: 0.9858\n",
      "Epoch 17/50\n",
      "957/957 [==============================] - 1137s 1s/step - loss: 0.0414 - accuracy: 0.9848 - val_loss: 0.0331 - val_accuracy: 0.9872\n",
      "Epoch 18/50\n",
      "957/957 [==============================] - 1134s 1s/step - loss: 0.0369 - accuracy: 0.9853 - val_loss: 0.0316 - val_accuracy: 0.9878\n",
      "Epoch 19/50\n",
      "957/957 [==============================] - 1136s 1s/step - loss: 0.0362 - accuracy: 0.9855 - val_loss: 0.0388 - val_accuracy: 0.9842\n",
      "Epoch 20/50\n",
      "957/957 [==============================] - 1134s 1s/step - loss: 0.0364 - accuracy: 0.9861 - val_loss: 0.0365 - val_accuracy: 0.9859\n",
      "Epoch 21/50\n",
      "957/957 [==============================] - 1140s 1s/step - loss: 0.0370 - accuracy: 0.9854 - val_loss: 0.0305 - val_accuracy: 0.9885\n",
      "Epoch 22/50\n",
      "957/957 [==============================] - 1132s 1s/step - loss: 0.0368 - accuracy: 0.9862 - val_loss: 0.0297 - val_accuracy: 0.9888\n",
      "Epoch 23/50\n",
      "957/957 [==============================] - 1133s 1s/step - loss: 0.0338 - accuracy: 0.9867 - val_loss: 0.0278 - val_accuracy: 0.9886\n",
      "Epoch 24/50\n",
      "957/957 [==============================] - 1138s 1s/step - loss: 0.0323 - accuracy: 0.9876 - val_loss: 0.0279 - val_accuracy: 0.9887\n",
      "Epoch 25/50\n",
      "957/957 [==============================] - 1133s 1s/step - loss: 0.0313 - accuracy: 0.9874 - val_loss: 0.0328 - val_accuracy: 0.9882\n",
      "Epoch 26/50\n",
      "957/957 [==============================] - 1133s 1s/step - loss: 0.0327 - accuracy: 0.9877 - val_loss: 0.0311 - val_accuracy: 0.9888\n",
      "Epoch 27/50\n",
      "957/957 [==============================] - 1138s 1s/step - loss: 0.0304 - accuracy: 0.9881 - val_loss: 0.0312 - val_accuracy: 0.9874\n",
      "Epoch 28/50\n",
      "957/957 [==============================] - 1134s 1s/step - loss: 0.0296 - accuracy: 0.9882 - val_loss: 0.0358 - val_accuracy: 0.9865\n"
     ]
    },
    {
     "data": {
      "text/plain": [
       "<keras.callbacks.callbacks.History at 0x1b7bb275f88>"
      ]
     },
     "execution_count": 17,
     "metadata": {},
     "output_type": "execute_result"
    }
   ],
   "source": [
    "#Without denoising, core features.\n",
    "gmodel=deschesne_model()\n",
    "gmodel.fit(X_train_cv, y_train_cv,\n",
    "          batch_size=24,\n",
    "          epochs=50,\n",
    "          verbose=1,\n",
    "          validation_data=(X_valid, y_valid),\n",
    "          callbacks=callbacks,\n",
    "          class_weight=class_weights)"
   ]
  },
  {
   "cell_type": "code",
   "execution_count": 18,
   "metadata": {},
   "outputs": [
    {
     "name": "stdout",
     "output_type": "stream",
     "text": [
      "240/240 [==============================] - 75s 311ms/step\n",
      "Test loss: 0.027829395110408463\n",
      "Test accuracy: 0.9885553121566772\n"
     ]
    }
   ],
   "source": [
    "# model validation evaluation\n",
    "gmodel.load_weights(weights_path)\n",
    "score = gmodel.evaluate(X_valid, y_valid, verbose=1)\n",
    "print('Test loss:', score[0])\n",
    "print('Test accuracy:', score[1])"
   ]
  },
  {
   "cell_type": "code",
   "execution_count": 19,
   "metadata": {},
   "outputs": [
    {
     "name": "stdout",
     "output_type": "stream",
     "text": [
      "399/399 [==============================] - 124s 312ms/step\n",
      "Test loss: 0.029107635985490373\n",
      "Test accuracy: 0.9886149168014526\n"
     ]
    }
   ],
   "source": [
    "# model test evaluation\n",
    "score = gmodel.evaluate(X_test, y_test, verbose=1)\n",
    "print('Test loss:', score[0])\n",
    "print('Test accuracy:', score[1])"
   ]
  },
  {
   "cell_type": "code",
   "execution_count": 20,
   "metadata": {},
   "outputs": [
    {
     "name": "stdout",
     "output_type": "stream",
     "text": [
      "399/399 [==============================] - 137s 342ms/step\n"
     ]
    }
   ],
   "source": [
    "# get predicted target values \n",
    "y_pred = gmodel.predict(X_test, batch_size=64, verbose=1)"
   ]
  },
  {
   "cell_type": "code",
   "execution_count": 21,
   "metadata": {},
   "outputs": [],
   "source": [
    "# reduce the dimensionality (remove the 4th axis)\n",
    "X_test_3d = X_test[:,:,:,0]\n",
    "y_test_3d = y_test[:,:,:,0]\n",
    "y_pred_3d = y_pred[:,:,:,0]\n",
    "# get the binary prediction\n",
    "y_pred_bool = np.vectorize(round)(y_pred_3d)"
   ]
  },
  {
   "cell_type": "code",
   "execution_count": 28,
   "metadata": {},
   "outputs": [
    {
     "data": {
      "text/plain": [
       "Text(0.5, 1.0, 'predicted labels')"
      ]
     },
     "execution_count": 28,
     "metadata": {},
     "output_type": "execute_result"
    },
    {
     "data": {
      "text/plain": [
       "<Figure size 432x288 with 0 Axes>"
      ]
     },
     "metadata": {},
     "output_type": "display_data"
    },
    {
     "data": {
      "image/png": "[encoded data removed]",
      "text/plain": [
       "<Figure size 720x720 with 4 Axes>"
      ]
     },
     "metadata": {
      "needs_background": "light"
     },
     "output_type": "display_data"
    }
   ],
   "source": [
    "# visualize image samples \n",
    "\n",
    "plt.figure()\n",
    "\n",
    "#subplot(r,c) provide the no. of rows and columns\n",
    "f, axarr = plt.subplots(2,2, figsize=(10, 10)) \n",
    "\n",
    "# use the created array to output your multiple images. In this case I have stacked 4 images vertically\n",
    "axarr[0,0].imshow(X_test_3d[45])\n",
    "axarr[0,0].set_title('actual data')\n",
    "axarr[0,1].imshow(y_pred_3d[45])  \n",
    "axarr[0,1].set_title('predicted data')\n",
    "axarr[1,0].imshow(y_test_3d[45], cmap=\"gray\")\n",
    "axarr[1,0].set_title('actual labels')\n",
    "axarr[1,1].imshow(y_pred_bool[45], cmap=\"gray\") \n",
    "axarr[1,1].set_title('predicted labels')"
   ]
  },
  {
   "cell_type": "markdown",
   "metadata": {},
   "source": [
    "### Dwawing a Bounding Box around the image\n",
    "\n",
    "For this purpose, let's downscale the images to its original 21x21 size"
   ]
  },
  {
   "cell_type": "code",
   "execution_count": 145,
   "metadata": {},
   "outputs": [],
   "source": [
    "dsize = (21,21)\n",
    "y_pred_orig_size =  np.array([im_resize(image, interpolation=cv2.INTER_NEAREST) for image in y_pred_3d])\n",
    "y_pred_bool_orig_size =  np.array([im_resize(image, interpolation=cv2.INTER_NEAREST) for image in y_pred_bool])"
   ]
  },
  {
   "cell_type": "code",
   "execution_count": 165,
   "metadata": {},
   "outputs": [
    {
     "data": {
      "text/plain": [
       "<Figure size 432x288 with 0 Axes>"
      ]
     },
     "metadata": {},
     "output_type": "display_data"
    },
    {
     "data": {
      "image/png": "[encoded data removed]",
      "text/plain": [
       "<Figure size 432x288 with 1 Axes>"
      ]
     },
     "metadata": {
      "needs_background": "light"
     },
     "output_type": "display_data"
    }
   ],
   "source": [
    "def bbox_draw(im_array):\n",
    "    '''Draw rectangle box around the detected ship''' \n",
    "    \n",
    "    # get figure bounding parameters \n",
    "    indx = np.argwhere(im_array==1)\n",
    "    up_b    = min([i[0] for i in indx])\n",
    "    down_b  = max([i[0] for i in indx])\n",
    "    left_b  = min([i[1] for i in indx])\n",
    "    right_b = max([i[1] for i in indx])\n",
    "    # set yp the bbox corner coordinate with 1 pixel out\n",
    "    upper_left = (left_b-1,up_b-1)\n",
    "    width = right_b-left_b+2\n",
    "    height = down_b-up_b+2\n",
    "       \n",
    "    # Configure figure ploting\n",
    "    plt.figure()\n",
    "\n",
    "    #subplot(r,c) provide the no. of rows and columns\n",
    "    f, ax = plt.subplots() \n",
    "    ax.imshow(im_array,cmap=\"gray\")\n",
    "    ax.set_title('bbox around the detected ship')\n",
    "    # Create a Rectangle patch\n",
    "    #Rectangle((left,upper),width,height)\n",
    "    rect = patches.Rectangle(\n",
    "        (left_b-1,up_b-1),\n",
    "        width,height,\n",
    "        linewidth=0.7,edgecolor='r',facecolor='none')\n",
    "    # Add the patch to the Axes\n",
    "    ax.add_patch(rect)\n",
    "\n",
    "    plt.show()\n",
    "    \n",
    "bbox_draw(y_pred_bool_orig_size[45])"
   ]
  },
  {
   "cell_type": "code",
   "execution_count": null,
   "metadata": {},
   "outputs": [],
   "source": []
  },
  {
   "cell_type": "code",
   "execution_count": null,
   "metadata": {},
   "outputs": [],
   "source": []
  },
  {
   "cell_type": "code",
   "execution_count": null,
   "metadata": {},
   "outputs": [],
   "source": []
  },
  {
   "cell_type": "code",
   "execution_count": null,
   "metadata": {},
   "outputs": [],
   "source": []
  },
  {
   "cell_type": "code",
   "execution_count": null,
   "metadata": {},
   "outputs": [],
   "source": []
  }
 ],
 "metadata": {
  "kernelspec": {
   "display_name": "Python 3",
   "language": "python",
   "name": "python3"
  },
  "language_info": {
   "codemirror_mode": {
    "name": "ipython",
    "version": 3
   },
   "file_extension": ".py",
   "mimetype": "text/x-python",
   "name": "python",
   "nbconvert_exporter": "python",
   "pygments_lexer": "ipython3",
   "version": "3.7.6"
  }
 },
 "nbformat": 4,
 "nbformat_minor": 4
}
